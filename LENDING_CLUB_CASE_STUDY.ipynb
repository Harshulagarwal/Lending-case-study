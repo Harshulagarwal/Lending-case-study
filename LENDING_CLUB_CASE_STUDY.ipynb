{
 "cells": [
  {
   "cell_type": "code",
   "execution_count": 1,
   "id": "b4b4fe8f",
   "metadata": {},
   "outputs": [],
   "source": [
    "import numpy as np\n",
    "import pandas as pd\n",
    "import matplotlib.pyplot as plt\n",
    "from matplotlib import style\n",
    "import seaborn as sns\n",
    "sns.set(style='whitegrid')"
   ]
  },
  {
   "cell_type": "code",
   "execution_count": 2,
   "id": "4532700c",
   "metadata": {},
   "outputs": [],
   "source": [
    "import warnings\n",
    "warnings.filterwarnings('ignore')"
   ]
  },
  {
   "cell_type": "code",
   "execution_count": 3,
   "id": "8b551d3e",
   "metadata": {},
   "outputs": [],
   "source": [
    "#Reading the csv file\n",
    "loan= pd.read_csv(\"C:/Users/harsh/Downloads/pgdai/lending case study/loan.csv\")"
   ]
  },
  {
   "cell_type": "code",
   "execution_count": 4,
   "id": "5d2b483d",
   "metadata": {
    "scrolled": false
   },
   "outputs": [
    {
     "data": {
      "text/html": [
       "<div>\n",
       "<style scoped>\n",
       "    .dataframe tbody tr th:only-of-type {\n",
       "        vertical-align: middle;\n",
       "    }\n",
       "\n",
       "    .dataframe tbody tr th {\n",
       "        vertical-align: top;\n",
       "    }\n",
       "\n",
       "    .dataframe thead th {\n",
       "        text-align: right;\n",
       "    }\n",
       "</style>\n",
       "<table border=\"1\" class=\"dataframe\">\n",
       "  <thead>\n",
       "    <tr style=\"text-align: right;\">\n",
       "      <th></th>\n",
       "      <th>id</th>\n",
       "      <th>member_id</th>\n",
       "      <th>loan_amnt</th>\n",
       "      <th>funded_amnt</th>\n",
       "      <th>funded_amnt_inv</th>\n",
       "      <th>term</th>\n",
       "      <th>int_rate</th>\n",
       "      <th>installment</th>\n",
       "      <th>grade</th>\n",
       "      <th>sub_grade</th>\n",
       "      <th>...</th>\n",
       "      <th>num_tl_90g_dpd_24m</th>\n",
       "      <th>num_tl_op_past_12m</th>\n",
       "      <th>pct_tl_nvr_dlq</th>\n",
       "      <th>percent_bc_gt_75</th>\n",
       "      <th>pub_rec_bankruptcies</th>\n",
       "      <th>tax_liens</th>\n",
       "      <th>tot_hi_cred_lim</th>\n",
       "      <th>total_bal_ex_mort</th>\n",
       "      <th>total_bc_limit</th>\n",
       "      <th>total_il_high_credit_limit</th>\n",
       "    </tr>\n",
       "  </thead>\n",
       "  <tbody>\n",
       "    <tr>\n",
       "      <th>0</th>\n",
       "      <td>1077501</td>\n",
       "      <td>1296599</td>\n",
       "      <td>5000</td>\n",
       "      <td>5000</td>\n",
       "      <td>4975.0</td>\n",
       "      <td>36 months</td>\n",
       "      <td>10.65%</td>\n",
       "      <td>162.87</td>\n",
       "      <td>B</td>\n",
       "      <td>B2</td>\n",
       "      <td>...</td>\n",
       "      <td>NaN</td>\n",
       "      <td>NaN</td>\n",
       "      <td>NaN</td>\n",
       "      <td>NaN</td>\n",
       "      <td>0.0</td>\n",
       "      <td>0.0</td>\n",
       "      <td>NaN</td>\n",
       "      <td>NaN</td>\n",
       "      <td>NaN</td>\n",
       "      <td>NaN</td>\n",
       "    </tr>\n",
       "    <tr>\n",
       "      <th>1</th>\n",
       "      <td>1077430</td>\n",
       "      <td>1314167</td>\n",
       "      <td>2500</td>\n",
       "      <td>2500</td>\n",
       "      <td>2500.0</td>\n",
       "      <td>60 months</td>\n",
       "      <td>15.27%</td>\n",
       "      <td>59.83</td>\n",
       "      <td>C</td>\n",
       "      <td>C4</td>\n",
       "      <td>...</td>\n",
       "      <td>NaN</td>\n",
       "      <td>NaN</td>\n",
       "      <td>NaN</td>\n",
       "      <td>NaN</td>\n",
       "      <td>0.0</td>\n",
       "      <td>0.0</td>\n",
       "      <td>NaN</td>\n",
       "      <td>NaN</td>\n",
       "      <td>NaN</td>\n",
       "      <td>NaN</td>\n",
       "    </tr>\n",
       "    <tr>\n",
       "      <th>2</th>\n",
       "      <td>1077175</td>\n",
       "      <td>1313524</td>\n",
       "      <td>2400</td>\n",
       "      <td>2400</td>\n",
       "      <td>2400.0</td>\n",
       "      <td>36 months</td>\n",
       "      <td>15.96%</td>\n",
       "      <td>84.33</td>\n",
       "      <td>C</td>\n",
       "      <td>C5</td>\n",
       "      <td>...</td>\n",
       "      <td>NaN</td>\n",
       "      <td>NaN</td>\n",
       "      <td>NaN</td>\n",
       "      <td>NaN</td>\n",
       "      <td>0.0</td>\n",
       "      <td>0.0</td>\n",
       "      <td>NaN</td>\n",
       "      <td>NaN</td>\n",
       "      <td>NaN</td>\n",
       "      <td>NaN</td>\n",
       "    </tr>\n",
       "    <tr>\n",
       "      <th>3</th>\n",
       "      <td>1076863</td>\n",
       "      <td>1277178</td>\n",
       "      <td>10000</td>\n",
       "      <td>10000</td>\n",
       "      <td>10000.0</td>\n",
       "      <td>36 months</td>\n",
       "      <td>13.49%</td>\n",
       "      <td>339.31</td>\n",
       "      <td>C</td>\n",
       "      <td>C1</td>\n",
       "      <td>...</td>\n",
       "      <td>NaN</td>\n",
       "      <td>NaN</td>\n",
       "      <td>NaN</td>\n",
       "      <td>NaN</td>\n",
       "      <td>0.0</td>\n",
       "      <td>0.0</td>\n",
       "      <td>NaN</td>\n",
       "      <td>NaN</td>\n",
       "      <td>NaN</td>\n",
       "      <td>NaN</td>\n",
       "    </tr>\n",
       "    <tr>\n",
       "      <th>4</th>\n",
       "      <td>1075358</td>\n",
       "      <td>1311748</td>\n",
       "      <td>3000</td>\n",
       "      <td>3000</td>\n",
       "      <td>3000.0</td>\n",
       "      <td>60 months</td>\n",
       "      <td>12.69%</td>\n",
       "      <td>67.79</td>\n",
       "      <td>B</td>\n",
       "      <td>B5</td>\n",
       "      <td>...</td>\n",
       "      <td>NaN</td>\n",
       "      <td>NaN</td>\n",
       "      <td>NaN</td>\n",
       "      <td>NaN</td>\n",
       "      <td>0.0</td>\n",
       "      <td>0.0</td>\n",
       "      <td>NaN</td>\n",
       "      <td>NaN</td>\n",
       "      <td>NaN</td>\n",
       "      <td>NaN</td>\n",
       "    </tr>\n",
       "  </tbody>\n",
       "</table>\n",
       "<p>5 rows × 111 columns</p>\n",
       "</div>"
      ],
      "text/plain": [
       "        id  member_id  loan_amnt  funded_amnt  funded_amnt_inv        term  \\\n",
       "0  1077501    1296599       5000         5000           4975.0   36 months   \n",
       "1  1077430    1314167       2500         2500           2500.0   60 months   \n",
       "2  1077175    1313524       2400         2400           2400.0   36 months   \n",
       "3  1076863    1277178      10000        10000          10000.0   36 months   \n",
       "4  1075358    1311748       3000         3000           3000.0   60 months   \n",
       "\n",
       "  int_rate  installment grade sub_grade  ... num_tl_90g_dpd_24m  \\\n",
       "0   10.65%       162.87     B        B2  ...                NaN   \n",
       "1   15.27%        59.83     C        C4  ...                NaN   \n",
       "2   15.96%        84.33     C        C5  ...                NaN   \n",
       "3   13.49%       339.31     C        C1  ...                NaN   \n",
       "4   12.69%        67.79     B        B5  ...                NaN   \n",
       "\n",
       "  num_tl_op_past_12m pct_tl_nvr_dlq  percent_bc_gt_75 pub_rec_bankruptcies  \\\n",
       "0                NaN            NaN               NaN                  0.0   \n",
       "1                NaN            NaN               NaN                  0.0   \n",
       "2                NaN            NaN               NaN                  0.0   \n",
       "3                NaN            NaN               NaN                  0.0   \n",
       "4                NaN            NaN               NaN                  0.0   \n",
       "\n",
       "  tax_liens tot_hi_cred_lim total_bal_ex_mort total_bc_limit  \\\n",
       "0       0.0             NaN               NaN            NaN   \n",
       "1       0.0             NaN               NaN            NaN   \n",
       "2       0.0             NaN               NaN            NaN   \n",
       "3       0.0             NaN               NaN            NaN   \n",
       "4       0.0             NaN               NaN            NaN   \n",
       "\n",
       "  total_il_high_credit_limit  \n",
       "0                        NaN  \n",
       "1                        NaN  \n",
       "2                        NaN  \n",
       "3                        NaN  \n",
       "4                        NaN  \n",
       "\n",
       "[5 rows x 111 columns]"
      ]
     },
     "execution_count": 4,
     "metadata": {},
     "output_type": "execute_result"
    }
   ],
   "source": [
    "loan.head()"
   ]
  },
  {
   "cell_type": "code",
   "execution_count": 5,
   "id": "f2ac8ef8",
   "metadata": {},
   "outputs": [
    {
     "data": {
      "text/plain": [
       "(39717, 111)"
      ]
     },
     "execution_count": 5,
     "metadata": {},
     "output_type": "execute_result"
    }
   ],
   "source": [
    "loan.shape"
   ]
  },
  {
   "cell_type": "code",
   "execution_count": 6,
   "id": "d56557e5",
   "metadata": {},
   "outputs": [
    {
     "data": {
      "text/html": [
       "<div>\n",
       "<style scoped>\n",
       "    .dataframe tbody tr th:only-of-type {\n",
       "        vertical-align: middle;\n",
       "    }\n",
       "\n",
       "    .dataframe tbody tr th {\n",
       "        vertical-align: top;\n",
       "    }\n",
       "\n",
       "    .dataframe thead th {\n",
       "        text-align: right;\n",
       "    }\n",
       "</style>\n",
       "<table border=\"1\" class=\"dataframe\">\n",
       "  <thead>\n",
       "    <tr style=\"text-align: right;\">\n",
       "      <th></th>\n",
       "      <th>id</th>\n",
       "      <th>member_id</th>\n",
       "      <th>loan_amnt</th>\n",
       "      <th>funded_amnt</th>\n",
       "      <th>funded_amnt_inv</th>\n",
       "      <th>installment</th>\n",
       "      <th>annual_inc</th>\n",
       "      <th>dti</th>\n",
       "      <th>delinq_2yrs</th>\n",
       "      <th>inq_last_6mths</th>\n",
       "      <th>...</th>\n",
       "      <th>num_tl_90g_dpd_24m</th>\n",
       "      <th>num_tl_op_past_12m</th>\n",
       "      <th>pct_tl_nvr_dlq</th>\n",
       "      <th>percent_bc_gt_75</th>\n",
       "      <th>pub_rec_bankruptcies</th>\n",
       "      <th>tax_liens</th>\n",
       "      <th>tot_hi_cred_lim</th>\n",
       "      <th>total_bal_ex_mort</th>\n",
       "      <th>total_bc_limit</th>\n",
       "      <th>total_il_high_credit_limit</th>\n",
       "    </tr>\n",
       "  </thead>\n",
       "  <tbody>\n",
       "    <tr>\n",
       "      <th>count</th>\n",
       "      <td>3.971700e+04</td>\n",
       "      <td>3.971700e+04</td>\n",
       "      <td>39717.000000</td>\n",
       "      <td>39717.000000</td>\n",
       "      <td>39717.000000</td>\n",
       "      <td>39717.000000</td>\n",
       "      <td>3.971700e+04</td>\n",
       "      <td>39717.000000</td>\n",
       "      <td>39717.000000</td>\n",
       "      <td>39717.000000</td>\n",
       "      <td>...</td>\n",
       "      <td>0.0</td>\n",
       "      <td>0.0</td>\n",
       "      <td>0.0</td>\n",
       "      <td>0.0</td>\n",
       "      <td>39020.000000</td>\n",
       "      <td>39678.0</td>\n",
       "      <td>0.0</td>\n",
       "      <td>0.0</td>\n",
       "      <td>0.0</td>\n",
       "      <td>0.0</td>\n",
       "    </tr>\n",
       "    <tr>\n",
       "      <th>mean</th>\n",
       "      <td>6.831319e+05</td>\n",
       "      <td>8.504636e+05</td>\n",
       "      <td>11219.443815</td>\n",
       "      <td>10947.713196</td>\n",
       "      <td>10397.448868</td>\n",
       "      <td>324.561922</td>\n",
       "      <td>6.896893e+04</td>\n",
       "      <td>13.315130</td>\n",
       "      <td>0.146512</td>\n",
       "      <td>0.869200</td>\n",
       "      <td>...</td>\n",
       "      <td>NaN</td>\n",
       "      <td>NaN</td>\n",
       "      <td>NaN</td>\n",
       "      <td>NaN</td>\n",
       "      <td>0.043260</td>\n",
       "      <td>0.0</td>\n",
       "      <td>NaN</td>\n",
       "      <td>NaN</td>\n",
       "      <td>NaN</td>\n",
       "      <td>NaN</td>\n",
       "    </tr>\n",
       "    <tr>\n",
       "      <th>std</th>\n",
       "      <td>2.106941e+05</td>\n",
       "      <td>2.656783e+05</td>\n",
       "      <td>7456.670694</td>\n",
       "      <td>7187.238670</td>\n",
       "      <td>7128.450439</td>\n",
       "      <td>208.874874</td>\n",
       "      <td>6.379377e+04</td>\n",
       "      <td>6.678594</td>\n",
       "      <td>0.491812</td>\n",
       "      <td>1.070219</td>\n",
       "      <td>...</td>\n",
       "      <td>NaN</td>\n",
       "      <td>NaN</td>\n",
       "      <td>NaN</td>\n",
       "      <td>NaN</td>\n",
       "      <td>0.204324</td>\n",
       "      <td>0.0</td>\n",
       "      <td>NaN</td>\n",
       "      <td>NaN</td>\n",
       "      <td>NaN</td>\n",
       "      <td>NaN</td>\n",
       "    </tr>\n",
       "    <tr>\n",
       "      <th>min</th>\n",
       "      <td>5.473400e+04</td>\n",
       "      <td>7.069900e+04</td>\n",
       "      <td>500.000000</td>\n",
       "      <td>500.000000</td>\n",
       "      <td>0.000000</td>\n",
       "      <td>15.690000</td>\n",
       "      <td>4.000000e+03</td>\n",
       "      <td>0.000000</td>\n",
       "      <td>0.000000</td>\n",
       "      <td>0.000000</td>\n",
       "      <td>...</td>\n",
       "      <td>NaN</td>\n",
       "      <td>NaN</td>\n",
       "      <td>NaN</td>\n",
       "      <td>NaN</td>\n",
       "      <td>0.000000</td>\n",
       "      <td>0.0</td>\n",
       "      <td>NaN</td>\n",
       "      <td>NaN</td>\n",
       "      <td>NaN</td>\n",
       "      <td>NaN</td>\n",
       "    </tr>\n",
       "    <tr>\n",
       "      <th>25%</th>\n",
       "      <td>5.162210e+05</td>\n",
       "      <td>6.667800e+05</td>\n",
       "      <td>5500.000000</td>\n",
       "      <td>5400.000000</td>\n",
       "      <td>5000.000000</td>\n",
       "      <td>167.020000</td>\n",
       "      <td>4.040400e+04</td>\n",
       "      <td>8.170000</td>\n",
       "      <td>0.000000</td>\n",
       "      <td>0.000000</td>\n",
       "      <td>...</td>\n",
       "      <td>NaN</td>\n",
       "      <td>NaN</td>\n",
       "      <td>NaN</td>\n",
       "      <td>NaN</td>\n",
       "      <td>0.000000</td>\n",
       "      <td>0.0</td>\n",
       "      <td>NaN</td>\n",
       "      <td>NaN</td>\n",
       "      <td>NaN</td>\n",
       "      <td>NaN</td>\n",
       "    </tr>\n",
       "    <tr>\n",
       "      <th>50%</th>\n",
       "      <td>6.656650e+05</td>\n",
       "      <td>8.508120e+05</td>\n",
       "      <td>10000.000000</td>\n",
       "      <td>9600.000000</td>\n",
       "      <td>8975.000000</td>\n",
       "      <td>280.220000</td>\n",
       "      <td>5.900000e+04</td>\n",
       "      <td>13.400000</td>\n",
       "      <td>0.000000</td>\n",
       "      <td>1.000000</td>\n",
       "      <td>...</td>\n",
       "      <td>NaN</td>\n",
       "      <td>NaN</td>\n",
       "      <td>NaN</td>\n",
       "      <td>NaN</td>\n",
       "      <td>0.000000</td>\n",
       "      <td>0.0</td>\n",
       "      <td>NaN</td>\n",
       "      <td>NaN</td>\n",
       "      <td>NaN</td>\n",
       "      <td>NaN</td>\n",
       "    </tr>\n",
       "    <tr>\n",
       "      <th>75%</th>\n",
       "      <td>8.377550e+05</td>\n",
       "      <td>1.047339e+06</td>\n",
       "      <td>15000.000000</td>\n",
       "      <td>15000.000000</td>\n",
       "      <td>14400.000000</td>\n",
       "      <td>430.780000</td>\n",
       "      <td>8.230000e+04</td>\n",
       "      <td>18.600000</td>\n",
       "      <td>0.000000</td>\n",
       "      <td>1.000000</td>\n",
       "      <td>...</td>\n",
       "      <td>NaN</td>\n",
       "      <td>NaN</td>\n",
       "      <td>NaN</td>\n",
       "      <td>NaN</td>\n",
       "      <td>0.000000</td>\n",
       "      <td>0.0</td>\n",
       "      <td>NaN</td>\n",
       "      <td>NaN</td>\n",
       "      <td>NaN</td>\n",
       "      <td>NaN</td>\n",
       "    </tr>\n",
       "    <tr>\n",
       "      <th>max</th>\n",
       "      <td>1.077501e+06</td>\n",
       "      <td>1.314167e+06</td>\n",
       "      <td>35000.000000</td>\n",
       "      <td>35000.000000</td>\n",
       "      <td>35000.000000</td>\n",
       "      <td>1305.190000</td>\n",
       "      <td>6.000000e+06</td>\n",
       "      <td>29.990000</td>\n",
       "      <td>11.000000</td>\n",
       "      <td>8.000000</td>\n",
       "      <td>...</td>\n",
       "      <td>NaN</td>\n",
       "      <td>NaN</td>\n",
       "      <td>NaN</td>\n",
       "      <td>NaN</td>\n",
       "      <td>2.000000</td>\n",
       "      <td>0.0</td>\n",
       "      <td>NaN</td>\n",
       "      <td>NaN</td>\n",
       "      <td>NaN</td>\n",
       "      <td>NaN</td>\n",
       "    </tr>\n",
       "  </tbody>\n",
       "</table>\n",
       "<p>8 rows × 87 columns</p>\n",
       "</div>"
      ],
      "text/plain": [
       "                 id     member_id     loan_amnt   funded_amnt  \\\n",
       "count  3.971700e+04  3.971700e+04  39717.000000  39717.000000   \n",
       "mean   6.831319e+05  8.504636e+05  11219.443815  10947.713196   \n",
       "std    2.106941e+05  2.656783e+05   7456.670694   7187.238670   \n",
       "min    5.473400e+04  7.069900e+04    500.000000    500.000000   \n",
       "25%    5.162210e+05  6.667800e+05   5500.000000   5400.000000   \n",
       "50%    6.656650e+05  8.508120e+05  10000.000000   9600.000000   \n",
       "75%    8.377550e+05  1.047339e+06  15000.000000  15000.000000   \n",
       "max    1.077501e+06  1.314167e+06  35000.000000  35000.000000   \n",
       "\n",
       "       funded_amnt_inv   installment    annual_inc           dti  \\\n",
       "count     39717.000000  39717.000000  3.971700e+04  39717.000000   \n",
       "mean      10397.448868    324.561922  6.896893e+04     13.315130   \n",
       "std        7128.450439    208.874874  6.379377e+04      6.678594   \n",
       "min           0.000000     15.690000  4.000000e+03      0.000000   \n",
       "25%        5000.000000    167.020000  4.040400e+04      8.170000   \n",
       "50%        8975.000000    280.220000  5.900000e+04     13.400000   \n",
       "75%       14400.000000    430.780000  8.230000e+04     18.600000   \n",
       "max       35000.000000   1305.190000  6.000000e+06     29.990000   \n",
       "\n",
       "        delinq_2yrs  inq_last_6mths  ...  num_tl_90g_dpd_24m  \\\n",
       "count  39717.000000    39717.000000  ...                 0.0   \n",
       "mean       0.146512        0.869200  ...                 NaN   \n",
       "std        0.491812        1.070219  ...                 NaN   \n",
       "min        0.000000        0.000000  ...                 NaN   \n",
       "25%        0.000000        0.000000  ...                 NaN   \n",
       "50%        0.000000        1.000000  ...                 NaN   \n",
       "75%        0.000000        1.000000  ...                 NaN   \n",
       "max       11.000000        8.000000  ...                 NaN   \n",
       "\n",
       "       num_tl_op_past_12m  pct_tl_nvr_dlq  percent_bc_gt_75  \\\n",
       "count                 0.0             0.0               0.0   \n",
       "mean                  NaN             NaN               NaN   \n",
       "std                   NaN             NaN               NaN   \n",
       "min                   NaN             NaN               NaN   \n",
       "25%                   NaN             NaN               NaN   \n",
       "50%                   NaN             NaN               NaN   \n",
       "75%                   NaN             NaN               NaN   \n",
       "max                   NaN             NaN               NaN   \n",
       "\n",
       "       pub_rec_bankruptcies  tax_liens  tot_hi_cred_lim  total_bal_ex_mort  \\\n",
       "count          39020.000000    39678.0              0.0                0.0   \n",
       "mean               0.043260        0.0              NaN                NaN   \n",
       "std                0.204324        0.0              NaN                NaN   \n",
       "min                0.000000        0.0              NaN                NaN   \n",
       "25%                0.000000        0.0              NaN                NaN   \n",
       "50%                0.000000        0.0              NaN                NaN   \n",
       "75%                0.000000        0.0              NaN                NaN   \n",
       "max                2.000000        0.0              NaN                NaN   \n",
       "\n",
       "       total_bc_limit  total_il_high_credit_limit  \n",
       "count             0.0                         0.0  \n",
       "mean              NaN                         NaN  \n",
       "std               NaN                         NaN  \n",
       "min               NaN                         NaN  \n",
       "25%               NaN                         NaN  \n",
       "50%               NaN                         NaN  \n",
       "75%               NaN                         NaN  \n",
       "max               NaN                         NaN  \n",
       "\n",
       "[8 rows x 87 columns]"
      ]
     },
     "execution_count": 6,
     "metadata": {},
     "output_type": "execute_result"
    }
   ],
   "source": [
    "loan.describe()"
   ]
  },
  {
   "cell_type": "code",
   "execution_count": 7,
   "id": "24c90f60",
   "metadata": {},
   "outputs": [
    {
     "data": {
      "text/plain": [
       "id                                0\n",
       "member_id                         0\n",
       "loan_amnt                         0\n",
       "funded_amnt                       0\n",
       "funded_amnt_inv                   0\n",
       "                              ...  \n",
       "tax_liens                        39\n",
       "tot_hi_cred_lim               39717\n",
       "total_bal_ex_mort             39717\n",
       "total_bc_limit                39717\n",
       "total_il_high_credit_limit    39717\n",
       "Length: 111, dtype: int64"
      ]
     },
     "execution_count": 7,
     "metadata": {},
     "output_type": "execute_result"
    }
   ],
   "source": [
    "# Checking no of NAN values in dataset\n",
    "loan.isnull().sum()"
   ]
  },
  {
   "cell_type": "code",
   "execution_count": 8,
   "id": "cf6b3ba9",
   "metadata": {},
   "outputs": [
    {
     "data": {
      "text/plain": [
       "id                              0.0\n",
       "member_id                       0.0\n",
       "loan_amnt                       0.0\n",
       "funded_amnt                     0.0\n",
       "funded_amnt_inv                 0.0\n",
       "                              ...  \n",
       "tax_liens                       0.0\n",
       "tot_hi_cred_lim               100.0\n",
       "total_bal_ex_mort             100.0\n",
       "total_bc_limit                100.0\n",
       "total_il_high_credit_limit    100.0\n",
       "Length: 111, dtype: float64"
      ]
     },
     "execution_count": 8,
     "metadata": {},
     "output_type": "execute_result"
    }
   ],
   "source": [
    "# percentage of missing values in each column\n",
    "round(loan.isnull().sum()/len(loan.index), 2)*100"
   ]
  },
  {
   "cell_type": "markdown",
   "id": "3b791877",
   "metadata": {},
   "source": [
    "Data Cleaning"
   ]
  },
  {
   "cell_type": "code",
   "execution_count": 9,
   "id": "a1ad0972",
   "metadata": {},
   "outputs": [
    {
     "name": "stdout",
     "output_type": "stream",
     "text": [
      "Index(['mths_since_last_delinq', 'mths_since_last_record', 'next_pymnt_d',\n",
      "       'mths_since_last_major_derog', 'annual_inc_joint', 'dti_joint',\n",
      "       'verification_status_joint', 'tot_coll_amt', 'tot_cur_bal',\n",
      "       'open_acc_6m', 'open_il_6m', 'open_il_12m', 'open_il_24m',\n",
      "       'mths_since_rcnt_il', 'total_bal_il', 'il_util', 'open_rv_12m',\n",
      "       'open_rv_24m', 'max_bal_bc', 'all_util', 'total_rev_hi_lim', 'inq_fi',\n",
      "       'total_cu_tl', 'inq_last_12m', 'acc_open_past_24mths', 'avg_cur_bal',\n",
      "       'bc_open_to_buy', 'bc_util', 'mo_sin_old_il_acct',\n",
      "       'mo_sin_old_rev_tl_op', 'mo_sin_rcnt_rev_tl_op', 'mo_sin_rcnt_tl',\n",
      "       'mort_acc', 'mths_since_recent_bc', 'mths_since_recent_bc_dlq',\n",
      "       'mths_since_recent_inq', 'mths_since_recent_revol_delinq',\n",
      "       'num_accts_ever_120_pd', 'num_actv_bc_tl', 'num_actv_rev_tl',\n",
      "       'num_bc_sats', 'num_bc_tl', 'num_il_tl', 'num_op_rev_tl',\n",
      "       'num_rev_accts', 'num_rev_tl_bal_gt_0', 'num_sats', 'num_tl_120dpd_2m',\n",
      "       'num_tl_30dpd', 'num_tl_90g_dpd_24m', 'num_tl_op_past_12m',\n",
      "       'pct_tl_nvr_dlq', 'percent_bc_gt_75', 'tot_hi_cred_lim',\n",
      "       'total_bal_ex_mort', 'total_bc_limit', 'total_il_high_credit_limit'],\n",
      "      dtype='object')\n"
     ]
    }
   ],
   "source": [
    "#Removing column with more than 60% missing value\n",
    "missing_values = loan.columns[(loan.isnull().sum() / len(loan.index))*100 > 60]\n",
    "print(missing_values)"
   ]
  },
  {
   "cell_type": "code",
   "execution_count": 10,
   "id": "d39592fe",
   "metadata": {},
   "outputs": [],
   "source": [
    "#Dropping the column having missing values morethan 60%\n",
    "loan = loan.drop(missing_values, axis= 1)"
   ]
  },
  {
   "cell_type": "code",
   "execution_count": 11,
   "id": "d36b1220",
   "metadata": {},
   "outputs": [
    {
     "data": {
      "text/plain": [
       "(39717, 54)"
      ]
     },
     "execution_count": 11,
     "metadata": {},
     "output_type": "execute_result"
    }
   ],
   "source": [
    "loan.shape"
   ]
  },
  {
   "cell_type": "code",
   "execution_count": 12,
   "id": "a43abdd8",
   "metadata": {
    "scrolled": true
   },
   "outputs": [
    {
     "data": {
      "text/plain": [
       "id                             0.00\n",
       "member_id                      0.00\n",
       "loan_amnt                      0.00\n",
       "funded_amnt                    0.00\n",
       "funded_amnt_inv                0.00\n",
       "term                           0.00\n",
       "int_rate                       0.00\n",
       "installment                    0.00\n",
       "grade                          0.00\n",
       "sub_grade                      0.00\n",
       "emp_title                      6.19\n",
       "emp_length                     2.71\n",
       "home_ownership                 0.00\n",
       "annual_inc                     0.00\n",
       "verification_status            0.00\n",
       "issue_d                        0.00\n",
       "loan_status                    0.00\n",
       "pymnt_plan                     0.00\n",
       "url                            0.00\n",
       "desc                          32.58\n",
       "purpose                        0.00\n",
       "title                          0.03\n",
       "zip_code                       0.00\n",
       "addr_state                     0.00\n",
       "dti                            0.00\n",
       "delinq_2yrs                    0.00\n",
       "earliest_cr_line               0.00\n",
       "inq_last_6mths                 0.00\n",
       "open_acc                       0.00\n",
       "pub_rec                        0.00\n",
       "revol_bal                      0.00\n",
       "revol_util                     0.13\n",
       "total_acc                      0.00\n",
       "initial_list_status            0.00\n",
       "out_prncp                      0.00\n",
       "out_prncp_inv                  0.00\n",
       "total_pymnt                    0.00\n",
       "total_pymnt_inv                0.00\n",
       "total_rec_prncp                0.00\n",
       "total_rec_int                  0.00\n",
       "total_rec_late_fee             0.00\n",
       "recoveries                     0.00\n",
       "collection_recovery_fee        0.00\n",
       "last_pymnt_d                   0.18\n",
       "last_pymnt_amnt                0.00\n",
       "last_credit_pull_d             0.01\n",
       "collections_12_mths_ex_med     0.14\n",
       "policy_code                    0.00\n",
       "application_type               0.00\n",
       "acc_now_delinq                 0.00\n",
       "chargeoff_within_12_mths       0.14\n",
       "delinq_amnt                    0.00\n",
       "pub_rec_bankruptcies           1.75\n",
       "tax_liens                      0.10\n",
       "dtype: float64"
      ]
     },
     "execution_count": 12,
     "metadata": {},
     "output_type": "execute_result"
    }
   ],
   "source": [
    "round(loan.isnull().sum()/ len(loan), 4)*100"
   ]
  },
  {
   "cell_type": "code",
   "execution_count": 13,
   "id": "cd0196c0",
   "metadata": {
    "scrolled": true
   },
   "outputs": [
    {
     "name": "stdout",
     "output_type": "stream",
     "text": [
      "<class 'pandas.core.frame.DataFrame'>\n",
      "RangeIndex: 39717 entries, 0 to 39716\n",
      "Data columns (total 54 columns):\n",
      " #   Column                      Non-Null Count  Dtype  \n",
      "---  ------                      --------------  -----  \n",
      " 0   id                          39717 non-null  int64  \n",
      " 1   member_id                   39717 non-null  int64  \n",
      " 2   loan_amnt                   39717 non-null  int64  \n",
      " 3   funded_amnt                 39717 non-null  int64  \n",
      " 4   funded_amnt_inv             39717 non-null  float64\n",
      " 5   term                        39717 non-null  object \n",
      " 6   int_rate                    39717 non-null  object \n",
      " 7   installment                 39717 non-null  float64\n",
      " 8   grade                       39717 non-null  object \n",
      " 9   sub_grade                   39717 non-null  object \n",
      " 10  emp_title                   37258 non-null  object \n",
      " 11  emp_length                  38642 non-null  object \n",
      " 12  home_ownership              39717 non-null  object \n",
      " 13  annual_inc                  39717 non-null  float64\n",
      " 14  verification_status         39717 non-null  object \n",
      " 15  issue_d                     39717 non-null  object \n",
      " 16  loan_status                 39717 non-null  object \n",
      " 17  pymnt_plan                  39717 non-null  object \n",
      " 18  url                         39717 non-null  object \n",
      " 19  desc                        26777 non-null  object \n",
      " 20  purpose                     39717 non-null  object \n",
      " 21  title                       39706 non-null  object \n",
      " 22  zip_code                    39717 non-null  object \n",
      " 23  addr_state                  39717 non-null  object \n",
      " 24  dti                         39717 non-null  float64\n",
      " 25  delinq_2yrs                 39717 non-null  int64  \n",
      " 26  earliest_cr_line            39717 non-null  object \n",
      " 27  inq_last_6mths              39717 non-null  int64  \n",
      " 28  open_acc                    39717 non-null  int64  \n",
      " 29  pub_rec                     39717 non-null  int64  \n",
      " 30  revol_bal                   39717 non-null  int64  \n",
      " 31  revol_util                  39667 non-null  object \n",
      " 32  total_acc                   39717 non-null  int64  \n",
      " 33  initial_list_status         39717 non-null  object \n",
      " 34  out_prncp                   39717 non-null  float64\n",
      " 35  out_prncp_inv               39717 non-null  float64\n",
      " 36  total_pymnt                 39717 non-null  float64\n",
      " 37  total_pymnt_inv             39717 non-null  float64\n",
      " 38  total_rec_prncp             39717 non-null  float64\n",
      " 39  total_rec_int               39717 non-null  float64\n",
      " 40  total_rec_late_fee          39717 non-null  float64\n",
      " 41  recoveries                  39717 non-null  float64\n",
      " 42  collection_recovery_fee     39717 non-null  float64\n",
      " 43  last_pymnt_d                39646 non-null  object \n",
      " 44  last_pymnt_amnt             39717 non-null  float64\n",
      " 45  last_credit_pull_d          39715 non-null  object \n",
      " 46  collections_12_mths_ex_med  39661 non-null  float64\n",
      " 47  policy_code                 39717 non-null  int64  \n",
      " 48  application_type            39717 non-null  object \n",
      " 49  acc_now_delinq              39717 non-null  int64  \n",
      " 50  chargeoff_within_12_mths    39661 non-null  float64\n",
      " 51  delinq_amnt                 39717 non-null  int64  \n",
      " 52  pub_rec_bankruptcies        39020 non-null  float64\n",
      " 53  tax_liens                   39678 non-null  float64\n",
      "dtypes: float64(18), int64(13), object(23)\n",
      "memory usage: 16.4+ MB\n"
     ]
    }
   ],
   "source": [
    "#Checking remain data info\n",
    "loan.info()"
   ]
  },
  {
   "cell_type": "code",
   "execution_count": 14,
   "id": "c3aeed8f",
   "metadata": {
    "scrolled": true
   },
   "outputs": [
    {
     "data": {
      "text/plain": [
       "id                            39717\n",
       "member_id                     39717\n",
       "loan_amnt                       885\n",
       "funded_amnt                    1041\n",
       "funded_amnt_inv                8205\n",
       "term                              2\n",
       "int_rate                        371\n",
       "installment                   15383\n",
       "grade                             7\n",
       "sub_grade                        35\n",
       "emp_title                     28820\n",
       "emp_length                       11\n",
       "home_ownership                    5\n",
       "annual_inc                     5318\n",
       "verification_status               3\n",
       "issue_d                          55\n",
       "loan_status                       3\n",
       "pymnt_plan                        1\n",
       "url                           39717\n",
       "desc                          26527\n",
       "purpose                          14\n",
       "title                         19615\n",
       "zip_code                        823\n",
       "addr_state                       50\n",
       "dti                            2868\n",
       "delinq_2yrs                      11\n",
       "earliest_cr_line                526\n",
       "inq_last_6mths                    9\n",
       "open_acc                         40\n",
       "pub_rec                           5\n",
       "revol_bal                     21711\n",
       "revol_util                     1089\n",
       "total_acc                        82\n",
       "initial_list_status               1\n",
       "out_prncp                      1137\n",
       "out_prncp_inv                  1138\n",
       "total_pymnt                   37850\n",
       "total_pymnt_inv               37518\n",
       "total_rec_prncp                7976\n",
       "total_rec_int                 35148\n",
       "total_rec_late_fee             1356\n",
       "recoveries                     4040\n",
       "collection_recovery_fee        2616\n",
       "last_pymnt_d                    101\n",
       "last_pymnt_amnt               34930\n",
       "last_credit_pull_d              106\n",
       "collections_12_mths_ex_med        1\n",
       "policy_code                       1\n",
       "application_type                  1\n",
       "acc_now_delinq                    1\n",
       "chargeoff_within_12_mths          1\n",
       "delinq_amnt                       1\n",
       "pub_rec_bankruptcies              3\n",
       "tax_liens                         1\n",
       "dtype: int64"
      ]
     },
     "execution_count": 14,
     "metadata": {},
     "output_type": "execute_result"
    }
   ],
   "source": [
    "# unique values\n",
    "# We will remove all columns where number of unique value is only 1 because that will not make any sense in the analysis.\n",
    "loan.nunique()"
   ]
  },
  {
   "cell_type": "code",
   "execution_count": 15,
   "id": "ea71cb03",
   "metadata": {},
   "outputs": [],
   "source": [
    "#removing all cloumns where number of unique values is 1 and dont contain NAN values\n",
    "# TODO : remove \n",
    "for col in loan.columns:\n",
    "    if len(loan[col].unique()) == 1:\n",
    "        loan.drop(col,inplace=True,axis=1)"
   ]
  },
  {
   "cell_type": "code",
   "execution_count": null,
   "id": "add22a72",
   "metadata": {},
   "outputs": [],
   "source": []
  },
  {
   "cell_type": "code",
   "execution_count": 16,
   "id": "a1761f77",
   "metadata": {},
   "outputs": [
    {
     "data": {
      "text/plain": [
       "(39717, 48)"
      ]
     },
     "execution_count": 16,
     "metadata": {},
     "output_type": "execute_result"
    }
   ],
   "source": [
    "# No of columns after removing \n",
    "loan.shape"
   ]
  },
  {
   "cell_type": "code",
   "execution_count": 17,
   "id": "f2ca32e4",
   "metadata": {},
   "outputs": [
    {
     "data": {
      "text/plain": [
       "id                            39717\n",
       "member_id                     39717\n",
       "loan_amnt                       885\n",
       "funded_amnt                    1041\n",
       "funded_amnt_inv                8205\n",
       "term                              2\n",
       "int_rate                        371\n",
       "installment                   15383\n",
       "grade                             7\n",
       "sub_grade                        35\n",
       "emp_title                     28820\n",
       "emp_length                       11\n",
       "home_ownership                    5\n",
       "annual_inc                     5318\n",
       "verification_status               3\n",
       "issue_d                          55\n",
       "loan_status                       3\n",
       "url                           39717\n",
       "desc                          26527\n",
       "purpose                          14\n",
       "title                         19615\n",
       "zip_code                        823\n",
       "addr_state                       50\n",
       "dti                            2868\n",
       "delinq_2yrs                      11\n",
       "earliest_cr_line                526\n",
       "inq_last_6mths                    9\n",
       "open_acc                         40\n",
       "pub_rec                           5\n",
       "revol_bal                     21711\n",
       "revol_util                     1089\n",
       "total_acc                        82\n",
       "out_prncp                      1137\n",
       "out_prncp_inv                  1138\n",
       "total_pymnt                   37850\n",
       "total_pymnt_inv               37518\n",
       "total_rec_prncp                7976\n",
       "total_rec_int                 35148\n",
       "total_rec_late_fee             1356\n",
       "recoveries                     4040\n",
       "collection_recovery_fee        2616\n",
       "last_pymnt_d                    101\n",
       "last_pymnt_amnt               34930\n",
       "last_credit_pull_d              106\n",
       "collections_12_mths_ex_med        1\n",
       "chargeoff_within_12_mths          1\n",
       "pub_rec_bankruptcies              3\n",
       "tax_liens                         1\n",
       "dtype: int64"
      ]
     },
     "execution_count": 17,
     "metadata": {},
     "output_type": "execute_result"
    }
   ],
   "source": [
    "#Checking again if there are any cloumns left with less than 2 unique values\n",
    "loan.nunique()"
   ]
  },
  {
   "cell_type": "code",
   "execution_count": 18,
   "id": "f1b1f235",
   "metadata": {},
   "outputs": [
    {
     "data": {
      "text/plain": [
       "Index(['id', 'member_id', 'loan_amnt', 'funded_amnt', 'funded_amnt_inv',\n",
       "       'term', 'int_rate', 'installment', 'grade', 'sub_grade', 'emp_title',\n",
       "       'emp_length', 'home_ownership', 'annual_inc', 'verification_status',\n",
       "       'issue_d', 'loan_status', 'url', 'desc', 'purpose', 'title', 'zip_code',\n",
       "       'addr_state', 'dti', 'delinq_2yrs', 'earliest_cr_line',\n",
       "       'inq_last_6mths', 'open_acc', 'pub_rec', 'revol_bal', 'revol_util',\n",
       "       'total_acc', 'out_prncp', 'out_prncp_inv', 'total_pymnt',\n",
       "       'total_pymnt_inv', 'total_rec_prncp', 'total_rec_int',\n",
       "       'total_rec_late_fee', 'recoveries', 'collection_recovery_fee',\n",
       "       'last_pymnt_d', 'last_pymnt_amnt', 'last_credit_pull_d',\n",
       "       'collections_12_mths_ex_med', 'chargeoff_within_12_mths',\n",
       "       'pub_rec_bankruptcies', 'tax_liens'],\n",
       "      dtype='object')"
      ]
     },
     "execution_count": 18,
     "metadata": {},
     "output_type": "execute_result"
    }
   ],
   "source": [
    "loan.columns"
   ]
  },
  {
   "cell_type": "code",
   "execution_count": 19,
   "id": "bf5a48fe",
   "metadata": {},
   "outputs": [],
   "source": [
    "#removing columns which are not influencing our target variable i.e loan status. \n",
    "#here we are assuming that the columns representing customer behavior are not relevant w.r.t our analysis\n",
    "loan = loan.drop(['delinq_2yrs', 'inq_last_6mths', 'open_acc','pub_rec', 'revol_bal', 'revol_util', 'total_acc', 'out_prncp',\n",
    "                  'out_prncp_inv', 'total_pymnt', 'total_pymnt_inv', 'total_rec_prncp', 'total_rec_int', 'total_rec_late_fee',\n",
    "                  'recoveries', 'collection_recovery_fee', 'last_pymnt_d', 'last_pymnt_amnt', 'last_credit_pull_d','collections_12_mths_ex_med', 'chargeoff_within_12_mths', 'tax_liens','id', 'member_id',\n",
    "                                 'url', 'desc', 'zip_code','pub_rec_bankruptcies','earliest_cr_line'\n",
    "                 ], axis = 1)"
   ]
  },
  {
   "cell_type": "code",
   "execution_count": 20,
   "id": "48493115",
   "metadata": {},
   "outputs": [],
   "source": [
    "#  removing columns 'funded_amnt', 'funded_amnt_inv' since they are processed after lending club analysis so unnecessary wrt to our analysis\n",
    "loan = loan.drop(['funded_amnt', 'funded_amnt_inv'], axis = 1)"
   ]
  },
  {
   "cell_type": "code",
   "execution_count": 21,
   "id": "4f76363c",
   "metadata": {},
   "outputs": [
    {
     "data": {
      "text/plain": [
       "(39717, 17)"
      ]
     },
     "execution_count": 21,
     "metadata": {},
     "output_type": "execute_result"
    }
   ],
   "source": [
    "loan.shape"
   ]
  },
  {
   "cell_type": "code",
   "execution_count": 22,
   "id": "2aa7ae57",
   "metadata": {},
   "outputs": [],
   "source": [
    "#  Removing rows having loan status as current since they could be fully paid or default in future and are undetermined now\n",
    "loan = loan[loan['loan_status'] != 'Current']"
   ]
  },
  {
   "cell_type": "code",
   "execution_count": 23,
   "id": "a7fa9d5d",
   "metadata": {},
   "outputs": [
    {
     "data": {
      "text/plain": [
       "(38577, 17)"
      ]
     },
     "execution_count": 23,
     "metadata": {},
     "output_type": "execute_result"
    }
   ],
   "source": [
    "# Shape after removing \"Current\" loan status\n",
    "loan.shape"
   ]
  },
  {
   "cell_type": "code",
   "execution_count": 24,
   "id": "53c3ae18",
   "metadata": {},
   "outputs": [
    {
     "data": {
      "text/plain": [
       "loan_amnt              0.000000\n",
       "term                   0.000000\n",
       "int_rate               0.000000\n",
       "installment            0.000000\n",
       "grade                  0.000000\n",
       "sub_grade              0.000000\n",
       "emp_title              6.185033\n",
       "emp_length             2.677761\n",
       "home_ownership         0.000000\n",
       "annual_inc             0.000000\n",
       "verification_status    0.000000\n",
       "issue_d                0.000000\n",
       "loan_status            0.000000\n",
       "purpose                0.000000\n",
       "title                  0.028514\n",
       "addr_state             0.000000\n",
       "dti                    0.000000\n",
       "dtype: float64"
      ]
     },
     "execution_count": 24,
     "metadata": {},
     "output_type": "execute_result"
    }
   ],
   "source": [
    "loan.isnull().sum()*100/loan.shape[0]"
   ]
  },
  {
   "cell_type": "code",
   "execution_count": 25,
   "id": "43c5412f",
   "metadata": {},
   "outputs": [
    {
     "data": {
      "text/plain": [
       "loan_amnt                 0\n",
       "term                      0\n",
       "int_rate                  0\n",
       "installment               0\n",
       "grade                     0\n",
       "sub_grade                 0\n",
       "emp_title              2386\n",
       "emp_length             1033\n",
       "home_ownership            0\n",
       "annual_inc                0\n",
       "verification_status       0\n",
       "issue_d                   0\n",
       "loan_status               0\n",
       "purpose                   0\n",
       "title                    11\n",
       "addr_state                0\n",
       "dti                       0\n",
       "dtype: int64"
      ]
     },
     "execution_count": 25,
     "metadata": {},
     "output_type": "execute_result"
    }
   ],
   "source": [
    "loan.isnull().sum()"
   ]
  },
  {
   "cell_type": "code",
   "execution_count": 26,
   "id": "42f3d04b",
   "metadata": {},
   "outputs": [
    {
     "data": {
      "text/plain": [
       "count                  38566\n",
       "unique                 19297\n",
       "top       Debt Consolidation\n",
       "freq                    2090\n",
       "Name: title, dtype: object"
      ]
     },
     "execution_count": 26,
     "metadata": {},
     "output_type": "execute_result"
    }
   ],
   "source": [
    "loan['title'].describe()"
   ]
  },
  {
   "cell_type": "markdown",
   "id": "ad6db730",
   "metadata": {},
   "source": [
    "Can impute title column with mode value since it has a categorical values. Thus 'Debt Consolidation' can be used to impute NAN values"
   ]
  },
  {
   "cell_type": "code",
   "execution_count": 27,
   "id": "0879bcf1",
   "metadata": {},
   "outputs": [
    {
     "data": {
      "text/plain": [
       "count       36191\n",
       "unique      28027\n",
       "top       US Army\n",
       "freq          131\n",
       "Name: emp_title, dtype: object"
      ]
     },
     "execution_count": 27,
     "metadata": {},
     "output_type": "execute_result"
    }
   ],
   "source": [
    "loan['emp_title'].describe() "
   ]
  },
  {
   "cell_type": "markdown",
   "id": "4c9e0d0a",
   "metadata": {},
   "source": [
    "Can impute emp_title column with mode since it has a categorical values. Thus 'US ARMY' can be used to impute NAN values.\n"
   ]
  },
  {
   "cell_type": "code",
   "execution_count": 28,
   "id": "8bfcbae0",
   "metadata": {},
   "outputs": [
    {
     "data": {
      "text/plain": [
       "count         37544\n",
       "unique           11\n",
       "top       10+ years\n",
       "freq           8488\n",
       "Name: emp_length, dtype: object"
      ]
     },
     "execution_count": 28,
     "metadata": {},
     "output_type": "execute_result"
    }
   ],
   "source": [
    "loan['emp_length'].describe() "
   ]
  },
  {
   "cell_type": "markdown",
   "id": "335a6a11",
   "metadata": {},
   "source": [
    "Can impute emp_length column with mode since it has a categorical values. Thus '10+ years' can be used to impute NAN values."
   ]
  },
  {
   "cell_type": "code",
   "execution_count": 29,
   "id": "496ddd20",
   "metadata": {},
   "outputs": [
    {
     "data": {
      "text/plain": [
       "count    38577.000000\n",
       "mean         0.088913\n",
       "std          0.363139\n",
       "min          0.000000\n",
       "25%          0.000000\n",
       "50%          0.000000\n",
       "75%          0.000000\n",
       "max          3.000000\n",
       "dtype: float64"
      ]
     },
     "execution_count": 29,
     "metadata": {},
     "output_type": "execute_result"
    }
   ],
   "source": [
    "# Checking max no of null values in rows.\n",
    "loan.isnull().sum(axis = 1).describe()"
   ]
  },
  {
   "cell_type": "code",
   "execution_count": 30,
   "id": "1c5808e7",
   "metadata": {},
   "outputs": [],
   "source": [
    "# Removing rows where title, employee title, employee length are NAN.  \n",
    "loan = loan[~loan['title'].isnull()]\n",
    "loan = loan[~loan['emp_title'].isnull()]\n",
    "loan = loan[~loan['emp_length'].isnull()]"
   ]
  },
  {
   "cell_type": "code",
   "execution_count": 31,
   "id": "742c3e5d",
   "metadata": {},
   "outputs": [],
   "source": [
    "#dropping the rows where home ownership is none.\n",
    "loan = loan[loan['home_ownership'] != 'NONE']"
   ]
  },
  {
   "cell_type": "code",
   "execution_count": 32,
   "id": "7537a579",
   "metadata": {},
   "outputs": [
    {
     "data": {
      "text/plain": [
       "(36126, 17)"
      ]
     },
     "execution_count": 32,
     "metadata": {},
     "output_type": "execute_result"
    }
   ],
   "source": [
    "loan.shape"
   ]
  },
  {
   "cell_type": "code",
   "execution_count": 33,
   "id": "fe53cd98",
   "metadata": {},
   "outputs": [
    {
     "data": {
      "text/plain": [
       "loan_amnt              0\n",
       "term                   0\n",
       "int_rate               0\n",
       "installment            0\n",
       "grade                  0\n",
       "sub_grade              0\n",
       "emp_title              0\n",
       "emp_length             0\n",
       "home_ownership         0\n",
       "annual_inc             0\n",
       "verification_status    0\n",
       "issue_d                0\n",
       "loan_status            0\n",
       "purpose                0\n",
       "title                  0\n",
       "addr_state             0\n",
       "dti                    0\n",
       "dtype: int64"
      ]
     },
     "execution_count": 33,
     "metadata": {},
     "output_type": "execute_result"
    }
   ],
   "source": [
    "loan.isnull().sum()"
   ]
  },
  {
   "cell_type": "markdown",
   "id": "c99b5d67",
   "metadata": {},
   "source": [
    "# Handling Incorrect Data type"
   ]
  },
  {
   "cell_type": "code",
   "execution_count": 34,
   "id": "ab0020c2",
   "metadata": {},
   "outputs": [
    {
     "data": {
      "text/plain": [
       "loan_amnt                int64\n",
       "term                    object\n",
       "int_rate                object\n",
       "installment            float64\n",
       "grade                   object\n",
       "sub_grade               object\n",
       "emp_title               object\n",
       "emp_length              object\n",
       "home_ownership          object\n",
       "annual_inc             float64\n",
       "verification_status     object\n",
       "issue_d                 object\n",
       "loan_status             object\n",
       "purpose                 object\n",
       "title                   object\n",
       "addr_state              object\n",
       "dti                    float64\n",
       "dtype: object"
      ]
     },
     "execution_count": 34,
     "metadata": {},
     "output_type": "execute_result"
    }
   ],
   "source": [
    "loan.dtypes"
   ]
  },
  {
   "cell_type": "code",
   "execution_count": 35,
   "id": "ca627c61",
   "metadata": {},
   "outputs": [],
   "source": [
    "loan['int_rate'] = loan['int_rate'].apply(lambda x: x[:-1])\n",
    "loan['int_rate'] = loan['int_rate'].astype(float)"
   ]
  },
  {
   "cell_type": "code",
   "execution_count": 36,
   "id": "4c3a0ba1",
   "metadata": {},
   "outputs": [
    {
     "data": {
      "text/plain": [
       "count    36126.000000\n",
       "mean        11.968287\n",
       "std          3.684487\n",
       "min          5.420000\n",
       "25%          9.010000\n",
       "50%         11.830000\n",
       "75%         14.420000\n",
       "max         24.400000\n",
       "Name: int_rate, dtype: float64"
      ]
     },
     "execution_count": 36,
     "metadata": {},
     "output_type": "execute_result"
    }
   ],
   "source": [
    "loan['int_rate'].describe()"
   ]
  },
  {
   "cell_type": "markdown",
   "id": "3d213031",
   "metadata": {},
   "source": [
    "Converting loan_amnt, installment, int_rate, annual_inc, dti, term columns to numeric"
   ]
  },
  {
   "cell_type": "code",
   "execution_count": 37,
   "id": "30b07630",
   "metadata": {},
   "outputs": [],
   "source": [
    "numeric_columns = ['loan_amnt','installment','int_rate','annual_inc','dti']\n",
    "loan[numeric_columns] = loan[numeric_columns].apply(pd.to_numeric)"
   ]
  },
  {
   "cell_type": "code",
   "execution_count": 38,
   "id": "113aeb36",
   "metadata": {},
   "outputs": [],
   "source": [
    "loan['term'] = loan['term'].apply(lambda x: x.split(\" \")[-2])"
   ]
  },
  {
   "cell_type": "markdown",
   "id": "c13ab45b",
   "metadata": {},
   "source": [
    "Converting issue date to date time"
   ]
  },
  {
   "cell_type": "code",
   "execution_count": 39,
   "id": "c00f0a46",
   "metadata": {},
   "outputs": [],
   "source": [
    "loan['issue_d'] = pd.to_datetime(loan['issue_d'], format='%b-%y')"
   ]
  },
  {
   "cell_type": "code",
   "execution_count": 40,
   "id": "87e587d5",
   "metadata": {},
   "outputs": [
    {
     "data": {
      "image/png": "[encoded data removed]",
      "text/plain": [
       "<Figure size 432x288 with 1 Axes>"
      ]
     },
     "metadata": {},
     "output_type": "display_data"
    }
   ],
   "source": [
    "#checking distrbution of loan amount\n",
    "sns.distplot(loan['loan_amnt'])\n",
    "plt.show()"
   ]
  },
  {
   "cell_type": "code",
   "execution_count": 41,
   "id": "bf3a422c",
   "metadata": {},
   "outputs": [
    {
     "data": {
      "image/png": "[encoded data removed]",
      "text/plain": [
       "<Figure size 432x288 with 1 Axes>"
      ]
     },
     "metadata": {},
     "output_type": "display_data"
    }
   ],
   "source": [
    "#checking if there are any outliers in the columns containing numerical values\n",
    "loan.boxplot(column=['loan_amnt']);"
   ]
  },
  {
   "cell_type": "code",
   "execution_count": 43,
   "id": "bfecdeb0",
   "metadata": {},
   "outputs": [
    {
     "data": {
      "text/plain": [
       "<AxesSubplot:>"
      ]
     },
     "execution_count": 43,
     "metadata": {},
     "output_type": "execute_result"
    },
    {
     "data": {
      "image/png": "[encoded data removed]",
      "text/plain": [
       "<Figure size 432x288 with 1 Axes>"
      ]
     },
     "metadata": {},
     "output_type": "display_data"
    }
   ],
   "source": [
    "loan.boxplot(column=['installment'])"
   ]
  },
  {
   "cell_type": "code",
   "execution_count": 44,
   "id": "c2bfb0b7",
   "metadata": {},
   "outputs": [
    {
     "data": {
      "text/plain": [
       "<AxesSubplot:>"
      ]
     },
     "execution_count": 44,
     "metadata": {},
     "output_type": "execute_result"
    },
    {
     "data": {
      "image/png": "[encoded data removed]",
      "text/plain": [
       "<Figure size 432x288 with 1 Axes>"
      ]
     },
     "metadata": {},
     "output_type": "display_data"
    }
   ],
   "source": [
    "plt.yscale(\"log\")\n",
    "loan.boxplot('annual_inc')"
   ]
  },
  {
   "cell_type": "code",
   "execution_count": 45,
   "id": "b0ac5615",
   "metadata": {},
   "outputs": [
    {
     "data": {
      "text/html": [
       "<div>\n",
       "<style scoped>\n",
       "    .dataframe tbody tr th:only-of-type {\n",
       "        vertical-align: middle;\n",
       "    }\n",
       "\n",
       "    .dataframe tbody tr th {\n",
       "        vertical-align: top;\n",
       "    }\n",
       "\n",
       "    .dataframe thead th {\n",
       "        text-align: right;\n",
       "    }\n",
       "</style>\n",
       "<table border=\"1\" class=\"dataframe\">\n",
       "  <thead>\n",
       "    <tr style=\"text-align: right;\">\n",
       "      <th></th>\n",
       "      <th>loan_amnt</th>\n",
       "      <th>int_rate</th>\n",
       "      <th>installment</th>\n",
       "      <th>annual_inc</th>\n",
       "      <th>dti</th>\n",
       "    </tr>\n",
       "  </thead>\n",
       "  <tbody>\n",
       "    <tr>\n",
       "      <th>count</th>\n",
       "      <td>36126.000000</td>\n",
       "      <td>36126.000000</td>\n",
       "      <td>36126.000000</td>\n",
       "      <td>3.612600e+04</td>\n",
       "      <td>36126.000000</td>\n",
       "    </tr>\n",
       "    <tr>\n",
       "      <th>mean</th>\n",
       "      <td>11103.108564</td>\n",
       "      <td>11.968287</td>\n",
       "      <td>323.819172</td>\n",
       "      <td>6.903946e+04</td>\n",
       "      <td>13.354554</td>\n",
       "    </tr>\n",
       "    <tr>\n",
       "      <th>std</th>\n",
       "      <td>7313.015935</td>\n",
       "      <td>3.684487</td>\n",
       "      <td>207.257122</td>\n",
       "      <td>6.462890e+04</td>\n",
       "      <td>6.646555</td>\n",
       "    </tr>\n",
       "    <tr>\n",
       "      <th>min</th>\n",
       "      <td>500.000000</td>\n",
       "      <td>5.420000</td>\n",
       "      <td>16.080000</td>\n",
       "      <td>4.000000e+03</td>\n",
       "      <td>0.000000</td>\n",
       "    </tr>\n",
       "    <tr>\n",
       "      <th>25%</th>\n",
       "      <td>5500.000000</td>\n",
       "      <td>9.010000</td>\n",
       "      <td>167.590000</td>\n",
       "      <td>4.100000e+04</td>\n",
       "      <td>8.260000</td>\n",
       "    </tr>\n",
       "    <tr>\n",
       "      <th>50%</th>\n",
       "      <td>10000.000000</td>\n",
       "      <td>11.830000</td>\n",
       "      <td>280.260000</td>\n",
       "      <td>6.000000e+04</td>\n",
       "      <td>13.460000</td>\n",
       "    </tr>\n",
       "    <tr>\n",
       "      <th>75%</th>\n",
       "      <td>15000.000000</td>\n",
       "      <td>14.420000</td>\n",
       "      <td>426.470000</td>\n",
       "      <td>8.200000e+04</td>\n",
       "      <td>18.610000</td>\n",
       "    </tr>\n",
       "    <tr>\n",
       "      <th>max</th>\n",
       "      <td>35000.000000</td>\n",
       "      <td>24.400000</td>\n",
       "      <td>1305.190000</td>\n",
       "      <td>6.000000e+06</td>\n",
       "      <td>29.990000</td>\n",
       "    </tr>\n",
       "  </tbody>\n",
       "</table>\n",
       "</div>"
      ],
      "text/plain": [
       "          loan_amnt      int_rate   installment    annual_inc           dti\n",
       "count  36126.000000  36126.000000  36126.000000  3.612600e+04  36126.000000\n",
       "mean   11103.108564     11.968287    323.819172  6.903946e+04     13.354554\n",
       "std     7313.015935      3.684487    207.257122  6.462890e+04      6.646555\n",
       "min      500.000000      5.420000     16.080000  4.000000e+03      0.000000\n",
       "25%     5500.000000      9.010000    167.590000  4.100000e+04      8.260000\n",
       "50%    10000.000000     11.830000    280.260000  6.000000e+04     13.460000\n",
       "75%    15000.000000     14.420000    426.470000  8.200000e+04     18.610000\n",
       "max    35000.000000     24.400000   1305.190000  6.000000e+06     29.990000"
      ]
     },
     "execution_count": 45,
     "metadata": {},
     "output_type": "execute_result"
    }
   ],
   "source": [
    "loan.describe()"
   ]
  },
  {
   "cell_type": "code",
   "execution_count": 46,
   "id": "3c033ec6",
   "metadata": {
    "scrolled": true
   },
   "outputs": [
    {
     "data": {
      "text/plain": [
       "300000.0"
      ]
     },
     "execution_count": 46,
     "metadata": {},
     "output_type": "execute_result"
    }
   ],
   "source": [
    "loan['annual_inc'].quantile(0.995)"
   ]
  },
  {
   "cell_type": "code",
   "execution_count": 47,
   "id": "92850662",
   "metadata": {},
   "outputs": [],
   "source": [
    "loan=loan[loan['annual_inc']<loan['annual_inc'].quantile(0.995)]"
   ]
  },
  {
   "cell_type": "code",
   "execution_count": 48,
   "id": "a7a3a052",
   "metadata": {},
   "outputs": [
    {
     "data": {
      "text/plain": [
       "count     35930.000000\n",
       "mean      66459.743516\n",
       "std       36734.492563\n",
       "min        4000.000000\n",
       "25%       41000.000000\n",
       "50%       59004.000000\n",
       "75%       81996.000000\n",
       "max      294000.000000\n",
       "Name: annual_inc, dtype: float64"
      ]
     },
     "execution_count": 48,
     "metadata": {},
     "output_type": "execute_result"
    }
   ],
   "source": [
    "loan['annual_inc'].describe()"
   ]
  },
  {
   "cell_type": "code",
   "execution_count": 49,
   "id": "58b03348",
   "metadata": {},
   "outputs": [
    {
     "data": {
      "text/plain": [
       "count    35749.000000\n",
       "mean       318.498016\n",
       "std        197.986741\n",
       "min         16.080000\n",
       "25%        167.080000\n",
       "50%        278.490000\n",
       "75%        421.590000\n",
       "max       1035.280000\n",
       "Name: installment, dtype: float64"
      ]
     },
     "execution_count": 49,
     "metadata": {},
     "output_type": "execute_result"
    }
   ],
   "source": [
    "#removing rows from \"installment\" after 99.5 percentile\n",
    "loan = loan[loan[\"installment\"] < loan[\"installment\"].quantile(0.995)]\n",
    "loan[\"installment\"].describe()"
   ]
  },
  {
   "cell_type": "code",
   "execution_count": 50,
   "id": "27c632d5",
   "metadata": {},
   "outputs": [
    {
     "data": {
      "text/plain": [
       "Index(['loan_amnt', 'term', 'int_rate', 'installment', 'grade', 'sub_grade',\n",
       "       'emp_title', 'emp_length', 'home_ownership', 'annual_inc',\n",
       "       'verification_status', 'issue_d', 'loan_status', 'purpose', 'title',\n",
       "       'addr_state', 'dti'],\n",
       "      dtype='object')"
      ]
     },
     "execution_count": 50,
     "metadata": {},
     "output_type": "execute_result"
    }
   ],
   "source": [
    "loan.columns"
   ]
  },
  {
   "cell_type": "code",
   "execution_count": 51,
   "id": "fa97c34d",
   "metadata": {},
   "outputs": [
    {
     "data": {
      "text/plain": [
       "(35749, 17)"
      ]
     },
     "execution_count": 51,
     "metadata": {},
     "output_type": "execute_result"
    }
   ],
   "source": [
    "loan.shape"
   ]
  },
  {
   "cell_type": "code",
   "execution_count": 52,
   "id": "7051ef26",
   "metadata": {},
   "outputs": [
    {
     "data": {
      "text/plain": [
       "debt_consolidation    17048\n",
       "credit_card            4675\n",
       "other                  3550\n",
       "home_improvement       2604\n",
       "major_purchase         1988\n",
       "car                    1411\n",
       "small_business         1384\n",
       "wedding                 883\n",
       "medical                 628\n",
       "moving                  529\n",
       "vacation                338\n",
       "house                   329\n",
       "educational             296\n",
       "renewable_energy         86\n",
       "Name: purpose, dtype: int64"
      ]
     },
     "execution_count": 52,
     "metadata": {},
     "output_type": "execute_result"
    }
   ],
   "source": [
    "loan['purpose'].value_counts()"
   ]
  },
  {
   "cell_type": "code",
   "execution_count": 53,
   "id": "4b416505",
   "metadata": {},
   "outputs": [
    {
     "data": {
      "text/plain": [
       "dtype('O')"
      ]
     },
     "execution_count": 53,
     "metadata": {},
     "output_type": "execute_result"
    }
   ],
   "source": [
    "loan['emp_length'].dtype"
   ]
  },
  {
   "cell_type": "code",
   "execution_count": 54,
   "id": "dd459e86",
   "metadata": {},
   "outputs": [],
   "source": [
    "loan['emp_length'] = loan['emp_length'].apply(lambda x: '0' if x == '< 1 year' else ( '10' if x == '10+ years' else x[0] ))"
   ]
  },
  {
   "cell_type": "code",
   "execution_count": 55,
   "id": "1a8c9b10",
   "metadata": {},
   "outputs": [],
   "source": [
    "loan['emp_length'] = loan['emp_length'].astype(int)"
   ]
  },
  {
   "cell_type": "code",
   "execution_count": 56,
   "id": "0b5d1922",
   "metadata": {},
   "outputs": [
    {
     "data": {
      "text/plain": [
       "count    35749.000000\n",
       "mean         4.953761\n",
       "std          3.538557\n",
       "min          0.000000\n",
       "25%          2.000000\n",
       "50%          4.000000\n",
       "75%          9.000000\n",
       "max         10.000000\n",
       "Name: emp_length, dtype: float64"
      ]
     },
     "execution_count": 56,
     "metadata": {},
     "output_type": "execute_result"
    }
   ],
   "source": [
    "loan['emp_length'].describe()"
   ]
  },
  {
   "cell_type": "markdown",
   "id": "2ec1423f",
   "metadata": {},
   "source": [
    "# Data Analysis"
   ]
  },
  {
   "cell_type": "code",
   "execution_count": 57,
   "id": "b3709db3",
   "metadata": {},
   "outputs": [
    {
     "data": {
      "image/png": "[encoded data removed]",
      "text/plain": [
       "<Figure size 432x288 with 1 Axes>"
      ]
     },
     "metadata": {},
     "output_type": "display_data"
    }
   ],
   "source": [
    "loan['loan_status'].value_counts().plot.bar()\n",
    "plt.show()"
   ]
  },
  {
   "cell_type": "markdown",
   "id": "05d2d24a",
   "metadata": {},
   "source": [
    "From this above information\n",
    "1. More than 30000 people have fully paid\n",
    "2. 5000 people are Charged Off"
   ]
  },
  {
   "cell_type": "code",
   "execution_count": 58,
   "id": "d8021f9a",
   "metadata": {},
   "outputs": [
    {
     "data": {
      "image/png": "[encoded data removed]",
      "text/plain": [
       "<Figure size 432x288 with 1 Axes>"
      ]
     },
     "metadata": {},
     "output_type": "display_data"
    }
   ],
   "source": [
    "sns.distplot(x=loan[loan[\"loan_status\"]==\"Fully Paid\"][\"loan_amnt\"], label=\"Fully Paid\")\n",
    "sns.distplot(x=loan[loan[\"loan_status\"]==\"Charged Off\"][\"loan_amnt\"], label=\"Charged Off\")\n",
    "plt.legend()\n",
    "plt.show()"
   ]
  },
  {
   "cell_type": "markdown",
   "id": "e21c49fe",
   "metadata": {},
   "source": [
    "From this above information\n",
    "1. More people who borrow loan with amount lower around 13000 are able to fully pay their loan.\n",
    "2. People borrowing more amount tens to default more."
   ]
  },
  {
   "cell_type": "code",
   "execution_count": 59,
   "id": "77155818",
   "metadata": {},
   "outputs": [
    {
     "data": {
      "image/png": "[encoded data removed]",
      "text/plain": [
       "<Figure size 432x288 with 1 Axes>"
      ]
     },
     "metadata": {},
     "output_type": "display_data"
    }
   ],
   "source": [
    "loan['term'].value_counts(1).plot.bar(xlabel = 'Term', title = 'Total', ylabel = '% People')\n",
    "plt.show()"
   ]
  },
  {
   "cell_type": "code",
   "execution_count": 60,
   "id": "2291f160",
   "metadata": {},
   "outputs": [
    {
     "data": {
      "text/plain": [
       "<AxesSubplot:xlabel='term,loan_status'>"
      ]
     },
     "execution_count": 60,
     "metadata": {},
     "output_type": "execute_result"
    },
    {
     "data": {
      "image/png": "[encoded data removed]",
      "text/plain": [
       "<Figure size 432x288 with 1 Axes>"
      ]
     },
     "metadata": {},
     "output_type": "display_data"
    }
   ],
   "source": [
    "loan.groupby('term')['loan_status'].value_counts(1).plot.bar()"
   ]
  },
  {
   "cell_type": "markdown",
   "id": "05b1f9c3",
   "metadata": {},
   "source": [
    "From above 2 plots, we get information\n",
    "1. More than 70% people of the total applied for 36 months loan period\n",
    "2. More than 24% of the people who took loan for 60 months of term, defaulted their loan."
   ]
  },
  {
   "cell_type": "code",
   "execution_count": 61,
   "id": "6787422c",
   "metadata": {},
   "outputs": [
    {
     "data": {
      "image/png": "[encoded data removed]",
      "text/plain": [
       "<Figure size 432x288 with 1 Axes>"
      ]
     },
     "metadata": {},
     "output_type": "display_data"
    }
   ],
   "source": [
    "loan['home_ownership'].value_counts().plot.bar()\n",
    "plt.show()"
   ]
  },
  {
   "cell_type": "code",
   "execution_count": 84,
   "id": "c9df41b7",
   "metadata": {},
   "outputs": [
    {
     "data": {
      "text/plain": [
       "home_ownership  loan_status\n",
       "MORTGAGE        Fully Paid     0.866607\n",
       "                Charged Off    0.133393\n",
       "OTHER           Fully Paid     0.810526\n",
       "                Charged Off    0.189474\n",
       "OWN             Fully Paid     0.858097\n",
       "                Charged Off    0.141903\n",
       "RENT            Fully Paid     0.849687\n",
       "                Charged Off    0.150313\n",
       "Name: loan_status, dtype: float64"
      ]
     },
     "execution_count": 84,
     "metadata": {},
     "output_type": "execute_result"
    }
   ],
   "source": [
    "# TODO: Analysis wrt to home ownership\n",
    "loan.groupby('home_ownership')['loan_status'].value_counts(1)\n",
    "\n",
    "# loan[loan[\"loan_status\"]==\"Charged Off\"]['home_ownership'].value_counts(1).plot.bar()\n",
    "# plt.show()\n"
   ]
  },
  {
   "cell_type": "markdown",
   "id": "3ba323f6",
   "metadata": {},
   "source": [
    "Not much insightful"
   ]
  },
  {
   "cell_type": "code",
   "execution_count": 64,
   "id": "e35334cf",
   "metadata": {},
   "outputs": [
    {
     "data": {
      "image/png": "[encoded data removed]",
      "text/plain": [
       "<Figure size 432x288 with 1 Axes>"
      ]
     },
     "metadata": {},
     "output_type": "display_data"
    }
   ],
   "source": [
    "loan['verification_status'].value_counts().plot.bar()\n",
    "plt.show()"
   ]
  },
  {
   "cell_type": "code",
   "execution_count": 80,
   "id": "c86b17ce",
   "metadata": {},
   "outputs": [
    {
     "data": {
      "text/plain": [
       "verification_status  loan_status\n",
       "Not Verified         Fully Paid     0.876581\n",
       "                     Charged Off    0.123419\n",
       "Source Verified      Fully Paid     0.853675\n",
       "                     Charged Off    0.146325\n",
       "Verified             Fully Paid     0.834499\n",
       "                     Charged Off    0.165501\n",
       "Name: loan_status, dtype: float64"
      ]
     },
     "execution_count": 80,
     "metadata": {},
     "output_type": "execute_result"
    }
   ],
   "source": [
    "loan.groupby('verification_status')['loan_status'].value_counts(1)"
   ]
  },
  {
   "cell_type": "code",
   "execution_count": 65,
   "id": "89afd29c",
   "metadata": {},
   "outputs": [
    {
     "data": {
      "image/png": "[encoded data removed]",
      "text/plain": [
       "<Figure size 432x288 with 1 Axes>"
      ]
     },
     "metadata": {},
     "output_type": "display_data"
    }
   ],
   "source": [
    "loan.groupby('verification_status')['loan_status'].value_counts(1).plot.bar()\n",
    "plt.show()"
   ]
  },
  {
   "cell_type": "markdown",
   "id": "c4541a98",
   "metadata": {},
   "source": [
    "From this above information\n",
    "1. Most people were not verified.\n",
    "2. Max people who defaulted their loan were verified (around 16% of the verified people)."
   ]
  },
  {
   "cell_type": "code",
   "execution_count": 66,
   "id": "d39f8f15",
   "metadata": {},
   "outputs": [
    {
     "data": {
      "image/png": "[encoded data removed]",
      "text/plain": [
       "<Figure size 432x288 with 1 Axes>"
      ]
     },
     "metadata": {},
     "output_type": "display_data"
    }
   ],
   "source": [
    "sns.distplot(loan[loan[\"loan_status\"]==\"Fully Paid\"]['annual_inc'], label=\"Fully Paid\")\n",
    "sns.distplot(loan[loan[\"loan_status\"]==\"Charged Off\"]['annual_inc'], label=\"Charged Off\")\n",
    "plt.legend()\n",
    "plt.show()"
   ]
  },
  {
   "cell_type": "markdown",
   "id": "c75b7169",
   "metadata": {},
   "source": [
    "From this above information\n",
    "1. People having lower annual income (less than around 60000) have defaulted their loan more and the default rate decreases at high annual income level."
   ]
  },
  {
   "cell_type": "code",
   "execution_count": 67,
   "id": "51c22d06",
   "metadata": {},
   "outputs": [
    {
     "data": {
      "image/png": "[encoded data removed]",
      "text/plain": [
       "<Figure size 432x288 with 1 Axes>"
      ]
     },
     "metadata": {},
     "output_type": "display_data"
    }
   ],
   "source": [
    "sns.distplot(loan[loan[\"loan_status\"]==\"Fully Paid\"]['dti'], label=\"Fully Paid\")\n",
    "sns.distplot(loan[loan[\"loan_status\"]==\"Charged Off\"]['dti'], label=\"Charged Off\")\n",
    "plt.legend()\n",
    "plt.show()"
   ]
  },
  {
   "cell_type": "markdown",
   "id": "a8f24f83",
   "metadata": {},
   "source": [
    "From this above information\n",
    "1. People having lower debt to income ratio tend to fully pay their loan and vice versa."
   ]
  },
  {
   "cell_type": "code",
   "execution_count": 68,
   "id": "3fbbfe1c",
   "metadata": {},
   "outputs": [
    {
     "data": {
      "image/png": "[encoded data removed]",
      "text/plain": [
       "<Figure size 432x288 with 1 Axes>"
      ]
     },
     "metadata": {},
     "output_type": "display_data"
    }
   ],
   "source": [
    "tr = loan.boxplot(column=\"int_rate\",by = \"term\")\n",
    "tr.set(xlabel='Term', ylabel='Interest Rate')\n",
    "plt.show()"
   ]
  },
  {
   "cell_type": "markdown",
   "id": "93d8e9dd",
   "metadata": {},
   "source": [
    "From this above information\n",
    "1. On an avg, 36 month term loan has lower interest rates as compared to 60 month term loan."
   ]
  },
  {
   "cell_type": "code",
   "execution_count": 69,
   "id": "38352eb2",
   "metadata": {},
   "outputs": [
    {
     "data": {
      "image/png": "[encoded data removed]",
      "text/plain": [
       "<Figure size 432x288 with 1 Axes>"
      ]
     },
     "metadata": {},
     "output_type": "display_data"
    }
   ],
   "source": [
    "sns.distplot(loan[loan[\"loan_status\"]==\"Fully Paid\"]['int_rate'], label=\"Fully Paid\")\n",
    "sns.distplot(loan[loan[\"loan_status\"]==\"Charged Off\"]['int_rate'], label=\"Charged Off\")\n",
    "plt.legend()\n",
    "plt.show()"
   ]
  },
  {
   "cell_type": "markdown",
   "id": "7f6a1d67",
   "metadata": {},
   "source": [
    "From this above information\n",
    "1. More no of defaulters for the loan having higher rate of interest (around 12% interest rate)"
   ]
  },
  {
   "cell_type": "code",
   "execution_count": 70,
   "id": "5d391772",
   "metadata": {},
   "outputs": [
    {
     "data": {
      "image/png": "[encoded data removed]",
      "text/plain": [
       "<Figure size 432x288 with 1 Axes>"
      ]
     },
     "metadata": {},
     "output_type": "display_data"
    }
   ],
   "source": [
    "sns.distplot(loan[loan[\"loan_status\"]==\"Fully Paid\"]['emp_length'], label=\"Fully Paid\")\n",
    "sns.distplot(loan[loan[\"loan_status\"]==\"Charged Off\"]['emp_length'], label=\"Charged Off\")\n",
    "plt.legend()\n",
    "plt.show()"
   ]
  },
  {
   "cell_type": "markdown",
   "id": "aedeefd5",
   "metadata": {},
   "source": [
    "Not much insightful"
   ]
  },
  {
   "cell_type": "code",
   "execution_count": 157,
   "id": "051364b5",
   "metadata": {},
   "outputs": [
    {
     "data": {
      "image/png": "[encoded data removed]",
      "text/plain": [
       "<Figure size 1800x576 with 1 Axes>"
      ]
     },
     "metadata": {},
     "output_type": "display_data"
    }
   ],
   "source": [
    "plt.figure(figsize=(25,8))\n",
    "sns.boxplot(y=loan['loan_amnt'], x = loan['purpose'])\n",
    "plt.show()"
   ]
  },
  {
   "cell_type": "markdown",
   "id": "0cdf5144",
   "metadata": {},
   "source": [
    "From this above information\n",
    "1. People who applied for loan for small business purpose, applied for higher loan amount."
   ]
  },
  {
   "cell_type": "code",
   "execution_count": 153,
   "id": "c302e335",
   "metadata": {},
   "outputs": [
    {
     "data": {
      "image/png": "[encoded data removed]",
      "text/plain": [
       "<Figure size 1080x360 with 1 Axes>"
      ]
     },
     "metadata": {},
     "output_type": "display_data"
    }
   ],
   "source": [
    "# Any better way to do this?\n",
    "plt.figure(figsize=(15,5))\n",
    "loan.groupby('purpose')['loan_status'].value_counts(1).plot.bar()\n",
    "plt.show()"
   ]
  },
  {
   "cell_type": "markdown",
   "id": "e271ace7",
   "metadata": {},
   "source": [
    "From this above information\n",
    "1. People who take loan for small business related purpose are most defaulters, this might be due to the competition and losses while opening and running small business"
   ]
  },
  {
   "cell_type": "code",
   "execution_count": 72,
   "id": "3f31fc5d",
   "metadata": {},
   "outputs": [],
   "source": [
    "# TODO analysis wrt to grade, subgrade, date-time"
   ]
  },
  {
   "cell_type": "code",
   "execution_count": 138,
   "id": "8b4bcd5e",
   "metadata": {
    "scrolled": true
   },
   "outputs": [
    {
     "data": {
      "text/plain": [
       "grade  sub_grade  loan_status\n",
       "A      A1         Fully Paid     0.977295\n",
       "                  Charged Off    0.022705\n",
       "       A2         Fully Paid     0.953522\n",
       "                  Charged Off    0.046478\n",
       "       A3         Fully Paid     0.949398\n",
       "                  Charged Off    0.050602\n",
       "       A4         Fully Paid     0.940602\n",
       "                  Charged Off    0.059398\n",
       "       A5         Fully Paid     0.922088\n",
       "                  Charged Off    0.077912\n",
       "B      B1         Fully Paid     0.910475\n",
       "                  Charged Off    0.089525\n",
       "       B2         Fully Paid     0.893514\n",
       "                  Charged Off    0.106486\n",
       "       B3         Fully Paid     0.881720\n",
       "                  Charged Off    0.118280\n",
       "       B4         Fully Paid     0.871604\n",
       "                  Charged Off    0.128396\n",
       "       B5         Fully Paid     0.862237\n",
       "                  Charged Off    0.137763\n",
       "C      C1         Fully Paid     0.844176\n",
       "                  Charged Off    0.155824\n",
       "       C2         Fully Paid     0.838195\n",
       "                  Charged Off    0.161805\n",
       "       C3         Fully Paid     0.824034\n",
       "                  Charged Off    0.175966\n",
       "       C4         Fully Paid     0.830071\n",
       "                  Charged Off    0.169929\n",
       "       C5         Fully Paid     0.823858\n",
       "                  Charged Off    0.176142\n",
       "D      D1         Fully Paid     0.826990\n",
       "                  Charged Off    0.173010\n",
       "       D2         Fully Paid     0.792815\n",
       "                  Charged Off    0.207185\n",
       "       D3         Fully Paid     0.775194\n",
       "                  Charged Off    0.224806\n",
       "       D4         Fully Paid     0.766551\n",
       "                  Charged Off    0.233449\n",
       "       D5         Fully Paid     0.755208\n",
       "                  Charged Off    0.244792\n",
       "E      E1         Fully Paid     0.728467\n",
       "                  Charged Off    0.271533\n",
       "       E2         Fully Paid     0.726148\n",
       "                  Charged Off    0.273852\n",
       "       E3         Fully Paid     0.779167\n",
       "                  Charged Off    0.220833\n",
       "       E4         Fully Paid     0.704545\n",
       "                  Charged Off    0.295455\n",
       "       E5         Fully Paid     0.721739\n",
       "                  Charged Off    0.278261\n",
       "F      F1         Fully Paid     0.715753\n",
       "                  Charged Off    0.284247\n",
       "       F2         Fully Paid     0.703196\n",
       "                  Charged Off    0.296804\n",
       "       F3         Fully Paid     0.708075\n",
       "                  Charged Off    0.291925\n",
       "       F4         Fully Paid     0.647482\n",
       "                  Charged Off    0.352518\n",
       "       F5         Fully Paid     0.520408\n",
       "                  Charged Off    0.479592\n",
       "G      G1         Fully Paid     0.677778\n",
       "                  Charged Off    0.322222\n",
       "       G2         Fully Paid     0.630137\n",
       "                  Charged Off    0.369863\n",
       "       G3         Fully Paid     0.550000\n",
       "                  Charged Off    0.450000\n",
       "       G4         Fully Paid     0.764706\n",
       "                  Charged Off    0.235294\n",
       "       G5         Fully Paid     0.640000\n",
       "                  Charged Off    0.360000\n",
       "Name: loan_status, dtype: float64"
      ]
     },
     "execution_count": 138,
     "metadata": {},
     "output_type": "execute_result"
    }
   ],
   "source": [
    "loan.groupby([\"grade\",\"sub_grade\"])['loan_status'].value_counts(1)"
   ]
  },
  {
   "cell_type": "markdown",
   "id": "a224a995",
   "metadata": {},
   "source": [
    "From this above information\n",
    "1. More than 90% people of grade A in all sub grades have fully paid their loan.\n",
    "2. Giving loans to group A, B people (considering at max 15% defaulters and up) will be safe as they have lower chance of defaulting their loans. \n",
    "3. Grade E, F, G loans are less safe as compared to others."
   ]
  },
  {
   "cell_type": "code",
   "execution_count": 111,
   "id": "a8e3d676",
   "metadata": {
    "scrolled": true
   },
   "outputs": [
    {
     "data": {
      "text/html": [
       "<div>\n",
       "<style scoped>\n",
       "    .dataframe tbody tr th:only-of-type {\n",
       "        vertical-align: middle;\n",
       "    }\n",
       "\n",
       "    .dataframe tbody tr th {\n",
       "        vertical-align: top;\n",
       "    }\n",
       "\n",
       "    .dataframe thead th {\n",
       "        text-align: right;\n",
       "    }\n",
       "</style>\n",
       "<table border=\"1\" class=\"dataframe\">\n",
       "  <thead>\n",
       "    <tr style=\"text-align: right;\">\n",
       "      <th></th>\n",
       "      <th></th>\n",
       "      <th>loan_amnt</th>\n",
       "      <th>int_rate</th>\n",
       "      <th>installment</th>\n",
       "      <th>emp_length</th>\n",
       "      <th>annual_inc</th>\n",
       "      <th>dti</th>\n",
       "    </tr>\n",
       "    <tr>\n",
       "      <th>grade</th>\n",
       "      <th>sub_grade</th>\n",
       "      <th></th>\n",
       "      <th></th>\n",
       "      <th></th>\n",
       "      <th></th>\n",
       "      <th></th>\n",
       "      <th></th>\n",
       "    </tr>\n",
       "  </thead>\n",
       "  <tbody>\n",
       "    <tr>\n",
       "      <th rowspan=\"5\" valign=\"top\">A</th>\n",
       "      <th>A1</th>\n",
       "      <td>6000</td>\n",
       "      <td>6.03</td>\n",
       "      <td>182.620</td>\n",
       "      <td>6.0</td>\n",
       "      <td>60000.00</td>\n",
       "      <td>9.880</td>\n",
       "    </tr>\n",
       "    <tr>\n",
       "      <th>A2</th>\n",
       "      <td>6450</td>\n",
       "      <td>5.99</td>\n",
       "      <td>188.590</td>\n",
       "      <td>5.0</td>\n",
       "      <td>58000.00</td>\n",
       "      <td>10.840</td>\n",
       "    </tr>\n",
       "    <tr>\n",
       "      <th>A3</th>\n",
       "      <td>7000</td>\n",
       "      <td>7.14</td>\n",
       "      <td>214.695</td>\n",
       "      <td>5.0</td>\n",
       "      <td>57000.00</td>\n",
       "      <td>11.430</td>\n",
       "    </tr>\n",
       "    <tr>\n",
       "      <th>A4</th>\n",
       "      <td>8000</td>\n",
       "      <td>7.51</td>\n",
       "      <td>248.820</td>\n",
       "      <td>4.0</td>\n",
       "      <td>58000.00</td>\n",
       "      <td>12.000</td>\n",
       "    </tr>\n",
       "    <tr>\n",
       "      <th>A5</th>\n",
       "      <td>9000</td>\n",
       "      <td>8.49</td>\n",
       "      <td>252.510</td>\n",
       "      <td>4.0</td>\n",
       "      <td>60000.00</td>\n",
       "      <td>12.550</td>\n",
       "    </tr>\n",
       "    <tr>\n",
       "      <th rowspan=\"5\" valign=\"top\">B</th>\n",
       "      <th>B1</th>\n",
       "      <td>8800</td>\n",
       "      <td>9.91</td>\n",
       "      <td>258.100</td>\n",
       "      <td>4.0</td>\n",
       "      <td>55000.00</td>\n",
       "      <td>12.735</td>\n",
       "    </tr>\n",
       "    <tr>\n",
       "      <th>B2</th>\n",
       "      <td>9000</td>\n",
       "      <td>10.59</td>\n",
       "      <td>260.590</td>\n",
       "      <td>4.0</td>\n",
       "      <td>56002.00</td>\n",
       "      <td>13.330</td>\n",
       "    </tr>\n",
       "    <tr>\n",
       "      <th>B3</th>\n",
       "      <td>10000</td>\n",
       "      <td>10.99</td>\n",
       "      <td>283.440</td>\n",
       "      <td>4.0</td>\n",
       "      <td>58800.00</td>\n",
       "      <td>13.785</td>\n",
       "    </tr>\n",
       "    <tr>\n",
       "      <th>B4</th>\n",
       "      <td>10000</td>\n",
       "      <td>11.49</td>\n",
       "      <td>269.105</td>\n",
       "      <td>4.0</td>\n",
       "      <td>60000.00</td>\n",
       "      <td>13.955</td>\n",
       "    </tr>\n",
       "    <tr>\n",
       "      <th>B5</th>\n",
       "      <td>10000</td>\n",
       "      <td>11.86</td>\n",
       "      <td>287.675</td>\n",
       "      <td>4.0</td>\n",
       "      <td>57496.00</td>\n",
       "      <td>13.905</td>\n",
       "    </tr>\n",
       "    <tr>\n",
       "      <th rowspan=\"5\" valign=\"top\">C</th>\n",
       "      <th>C1</th>\n",
       "      <td>9600</td>\n",
       "      <td>12.99</td>\n",
       "      <td>272.980</td>\n",
       "      <td>4.0</td>\n",
       "      <td>55022.24</td>\n",
       "      <td>14.185</td>\n",
       "    </tr>\n",
       "    <tr>\n",
       "      <th>C2</th>\n",
       "      <td>9750</td>\n",
       "      <td>13.49</td>\n",
       "      <td>276.060</td>\n",
       "      <td>4.0</td>\n",
       "      <td>56000.00</td>\n",
       "      <td>14.080</td>\n",
       "    </tr>\n",
       "    <tr>\n",
       "      <th>C3</th>\n",
       "      <td>10000</td>\n",
       "      <td>13.57</td>\n",
       "      <td>286.790</td>\n",
       "      <td>4.0</td>\n",
       "      <td>56004.00</td>\n",
       "      <td>14.005</td>\n",
       "    </tr>\n",
       "    <tr>\n",
       "      <th>C4</th>\n",
       "      <td>9000</td>\n",
       "      <td>13.92</td>\n",
       "      <td>276.380</td>\n",
       "      <td>4.0</td>\n",
       "      <td>55608.00</td>\n",
       "      <td>14.520</td>\n",
       "    </tr>\n",
       "    <tr>\n",
       "      <th>C5</th>\n",
       "      <td>8400</td>\n",
       "      <td>14.26</td>\n",
       "      <td>272.340</td>\n",
       "      <td>4.0</td>\n",
       "      <td>54996.00</td>\n",
       "      <td>14.380</td>\n",
       "    </tr>\n",
       "    <tr>\n",
       "      <th rowspan=\"5\" valign=\"top\">D</th>\n",
       "      <th>D1</th>\n",
       "      <td>8000</td>\n",
       "      <td>14.61</td>\n",
       "      <td>279.760</td>\n",
       "      <td>4.0</td>\n",
       "      <td>55000.00</td>\n",
       "      <td>14.270</td>\n",
       "    </tr>\n",
       "    <tr>\n",
       "      <th>D2</th>\n",
       "      <td>9950</td>\n",
       "      <td>15.21</td>\n",
       "      <td>284.920</td>\n",
       "      <td>4.0</td>\n",
       "      <td>59000.00</td>\n",
       "      <td>14.340</td>\n",
       "    </tr>\n",
       "    <tr>\n",
       "      <th>D3</th>\n",
       "      <td>11000</td>\n",
       "      <td>15.58</td>\n",
       "      <td>317.415</td>\n",
       "      <td>4.0</td>\n",
       "      <td>57000.00</td>\n",
       "      <td>14.470</td>\n",
       "    </tr>\n",
       "    <tr>\n",
       "      <th>D4</th>\n",
       "      <td>12000</td>\n",
       "      <td>15.95</td>\n",
       "      <td>349.850</td>\n",
       "      <td>4.0</td>\n",
       "      <td>60000.00</td>\n",
       "      <td>14.440</td>\n",
       "    </tr>\n",
       "    <tr>\n",
       "      <th>D5</th>\n",
       "      <td>13000</td>\n",
       "      <td>16.32</td>\n",
       "      <td>351.670</td>\n",
       "      <td>5.0</td>\n",
       "      <td>60000.00</td>\n",
       "      <td>14.200</td>\n",
       "    </tr>\n",
       "    <tr>\n",
       "      <th rowspan=\"5\" valign=\"top\">E</th>\n",
       "      <th>E1</th>\n",
       "      <td>13475</td>\n",
       "      <td>16.45</td>\n",
       "      <td>367.970</td>\n",
       "      <td>5.0</td>\n",
       "      <td>60000.00</td>\n",
       "      <td>14.270</td>\n",
       "    </tr>\n",
       "    <tr>\n",
       "      <th>E2</th>\n",
       "      <td>14000</td>\n",
       "      <td>16.82</td>\n",
       "      <td>358.490</td>\n",
       "      <td>4.0</td>\n",
       "      <td>62000.00</td>\n",
       "      <td>15.010</td>\n",
       "    </tr>\n",
       "    <tr>\n",
       "      <th>E3</th>\n",
       "      <td>15000</td>\n",
       "      <td>17.19</td>\n",
       "      <td>371.345</td>\n",
       "      <td>4.0</td>\n",
       "      <td>60000.00</td>\n",
       "      <td>14.235</td>\n",
       "    </tr>\n",
       "    <tr>\n",
       "      <th>E4</th>\n",
       "      <td>15000</td>\n",
       "      <td>17.56</td>\n",
       "      <td>391.510</td>\n",
       "      <td>4.0</td>\n",
       "      <td>65000.00</td>\n",
       "      <td>14.625</td>\n",
       "    </tr>\n",
       "    <tr>\n",
       "      <th>E5</th>\n",
       "      <td>16000</td>\n",
       "      <td>17.93</td>\n",
       "      <td>432.090</td>\n",
       "      <td>5.0</td>\n",
       "      <td>75000.00</td>\n",
       "      <td>14.900</td>\n",
       "    </tr>\n",
       "    <tr>\n",
       "      <th rowspan=\"5\" valign=\"top\">F</th>\n",
       "      <th>F1</th>\n",
       "      <td>17250</td>\n",
       "      <td>18.30</td>\n",
       "      <td>433.220</td>\n",
       "      <td>5.0</td>\n",
       "      <td>71398.00</td>\n",
       "      <td>14.560</td>\n",
       "    </tr>\n",
       "    <tr>\n",
       "      <th>F2</th>\n",
       "      <td>17500</td>\n",
       "      <td>18.67</td>\n",
       "      <td>463.670</td>\n",
       "      <td>5.0</td>\n",
       "      <td>70000.00</td>\n",
       "      <td>15.360</td>\n",
       "    </tr>\n",
       "    <tr>\n",
       "      <th>F3</th>\n",
       "      <td>18250</td>\n",
       "      <td>19.04</td>\n",
       "      <td>473.340</td>\n",
       "      <td>4.0</td>\n",
       "      <td>74000.00</td>\n",
       "      <td>15.090</td>\n",
       "    </tr>\n",
       "    <tr>\n",
       "      <th>F4</th>\n",
       "      <td>18825</td>\n",
       "      <td>19.41</td>\n",
       "      <td>468.810</td>\n",
       "      <td>5.0</td>\n",
       "      <td>68250.00</td>\n",
       "      <td>14.700</td>\n",
       "    </tr>\n",
       "    <tr>\n",
       "      <th>F5</th>\n",
       "      <td>20000</td>\n",
       "      <td>19.79</td>\n",
       "      <td>565.915</td>\n",
       "      <td>5.5</td>\n",
       "      <td>77184.00</td>\n",
       "      <td>15.400</td>\n",
       "    </tr>\n",
       "    <tr>\n",
       "      <th rowspan=\"5\" valign=\"top\">G</th>\n",
       "      <th>G1</th>\n",
       "      <td>20000</td>\n",
       "      <td>20.16</td>\n",
       "      <td>552.200</td>\n",
       "      <td>5.0</td>\n",
       "      <td>74000.00</td>\n",
       "      <td>13.665</td>\n",
       "    </tr>\n",
       "    <tr>\n",
       "      <th>G2</th>\n",
       "      <td>22250</td>\n",
       "      <td>20.48</td>\n",
       "      <td>602.140</td>\n",
       "      <td>5.0</td>\n",
       "      <td>72800.00</td>\n",
       "      <td>15.500</td>\n",
       "    </tr>\n",
       "    <tr>\n",
       "      <th>G3</th>\n",
       "      <td>20750</td>\n",
       "      <td>20.90</td>\n",
       "      <td>591.600</td>\n",
       "      <td>5.5</td>\n",
       "      <td>74502.00</td>\n",
       "      <td>17.080</td>\n",
       "    </tr>\n",
       "    <tr>\n",
       "      <th>G4</th>\n",
       "      <td>22250</td>\n",
       "      <td>21.27</td>\n",
       "      <td>574.320</td>\n",
       "      <td>4.0</td>\n",
       "      <td>89004.00</td>\n",
       "      <td>14.500</td>\n",
       "    </tr>\n",
       "    <tr>\n",
       "      <th>G5</th>\n",
       "      <td>20000</td>\n",
       "      <td>21.59</td>\n",
       "      <td>548.300</td>\n",
       "      <td>5.0</td>\n",
       "      <td>94000.00</td>\n",
       "      <td>16.330</td>\n",
       "    </tr>\n",
       "  </tbody>\n",
       "</table>\n",
       "</div>"
      ],
      "text/plain": [
       "                 loan_amnt  int_rate  installment  emp_length  annual_inc  \\\n",
       "grade sub_grade                                                             \n",
       "A     A1         6000       6.03      182.620      6.0         60000.00     \n",
       "      A2         6450       5.99      188.590      5.0         58000.00     \n",
       "      A3         7000       7.14      214.695      5.0         57000.00     \n",
       "      A4         8000       7.51      248.820      4.0         58000.00     \n",
       "      A5         9000       8.49      252.510      4.0         60000.00     \n",
       "B     B1         8800       9.91      258.100      4.0         55000.00     \n",
       "      B2         9000       10.59     260.590      4.0         56002.00     \n",
       "      B3         10000      10.99     283.440      4.0         58800.00     \n",
       "      B4         10000      11.49     269.105      4.0         60000.00     \n",
       "      B5         10000      11.86     287.675      4.0         57496.00     \n",
       "C     C1         9600       12.99     272.980      4.0         55022.24     \n",
       "      C2         9750       13.49     276.060      4.0         56000.00     \n",
       "      C3         10000      13.57     286.790      4.0         56004.00     \n",
       "      C4         9000       13.92     276.380      4.0         55608.00     \n",
       "      C5         8400       14.26     272.340      4.0         54996.00     \n",
       "D     D1         8000       14.61     279.760      4.0         55000.00     \n",
       "      D2         9950       15.21     284.920      4.0         59000.00     \n",
       "      D3         11000      15.58     317.415      4.0         57000.00     \n",
       "      D4         12000      15.95     349.850      4.0         60000.00     \n",
       "      D5         13000      16.32     351.670      5.0         60000.00     \n",
       "E     E1         13475      16.45     367.970      5.0         60000.00     \n",
       "      E2         14000      16.82     358.490      4.0         62000.00     \n",
       "      E3         15000      17.19     371.345      4.0         60000.00     \n",
       "      E4         15000      17.56     391.510      4.0         65000.00     \n",
       "      E5         16000      17.93     432.090      5.0         75000.00     \n",
       "F     F1         17250      18.30     433.220      5.0         71398.00     \n",
       "      F2         17500      18.67     463.670      5.0         70000.00     \n",
       "      F3         18250      19.04     473.340      4.0         74000.00     \n",
       "      F4         18825      19.41     468.810      5.0         68250.00     \n",
       "      F5         20000      19.79     565.915      5.5         77184.00     \n",
       "G     G1         20000      20.16     552.200      5.0         74000.00     \n",
       "      G2         22250      20.48     602.140      5.0         72800.00     \n",
       "      G3         20750      20.90     591.600      5.5         74502.00     \n",
       "      G4         22250      21.27     574.320      4.0         89004.00     \n",
       "      G5         20000      21.59     548.300      5.0         94000.00     \n",
       "\n",
       "                    dti  \n",
       "grade sub_grade          \n",
       "A     A1         9.880   \n",
       "      A2         10.840  \n",
       "      A3         11.430  \n",
       "      A4         12.000  \n",
       "      A5         12.550  \n",
       "B     B1         12.735  \n",
       "      B2         13.330  \n",
       "      B3         13.785  \n",
       "      B4         13.955  \n",
       "      B5         13.905  \n",
       "C     C1         14.185  \n",
       "      C2         14.080  \n",
       "      C3         14.005  \n",
       "      C4         14.520  \n",
       "      C5         14.380  \n",
       "D     D1         14.270  \n",
       "      D2         14.340  \n",
       "      D3         14.470  \n",
       "      D4         14.440  \n",
       "      D5         14.200  \n",
       "E     E1         14.270  \n",
       "      E2         15.010  \n",
       "      E3         14.235  \n",
       "      E4         14.625  \n",
       "      E5         14.900  \n",
       "F     F1         14.560  \n",
       "      F2         15.360  \n",
       "      F3         15.090  \n",
       "      F4         14.700  \n",
       "      F5         15.400  \n",
       "G     G1         13.665  \n",
       "      G2         15.500  \n",
       "      G3         17.080  \n",
       "      G4         14.500  \n",
       "      G5         16.330  "
      ]
     },
     "execution_count": 111,
     "metadata": {},
     "output_type": "execute_result"
    }
   ],
   "source": [
    "loan.groupby([\"grade\",\"sub_grade\"]).median()"
   ]
  },
  {
   "cell_type": "markdown",
   "id": "85451a33",
   "metadata": {},
   "source": [
    "From this above information\n",
    "1. Debt to Income ratio starts to increase from Group A to Group G. \n",
    "2. People apply for higher loan amount in groups E, F, G. \n",
    "3. Interest rate of loans also follow increasing trend when moved from group A to group G."
   ]
  },
  {
   "cell_type": "code",
   "execution_count": 134,
   "id": "2f12b0c4",
   "metadata": {},
   "outputs": [
    {
     "data": {
      "image/png": "[encoded data removed]",
      "text/plain": [
       "<Figure size 864x360 with 1 Axes>"
      ]
     },
     "metadata": {},
     "output_type": "display_data"
    }
   ],
   "source": [
    "plt.figure(figsize=(12,5))\n",
    "sns.boxplot(y=loan['int_rate'], x = loan['grade'])\n",
    "plt.show()"
   ]
  },
  {
   "cell_type": "markdown",
   "id": "83f63459",
   "metadata": {},
   "source": [
    "From this above information\n",
    "1. Group A and B people are charged with lesser rate of interest. This is because of their higher credibilty and good credit score."
   ]
  },
  {
   "cell_type": "code",
   "execution_count": null,
   "id": "a0a2d85c",
   "metadata": {},
   "outputs": [],
   "source": []
  },
  {
   "cell_type": "markdown",
   "id": "477e03f8",
   "metadata": {},
   "source": [
    "# Loan Status vs Loan Amount of charged off loans"
   ]
  },
  {
   "cell_type": "code",
   "execution_count": 148,
   "id": "85abc375",
   "metadata": {},
   "outputs": [
    {
     "data": {
      "image/png": "[encoded data removed]",
      "text/plain": [
       "<Figure size 720x720 with 1 Axes>"
      ]
     },
     "metadata": {},
     "output_type": "display_data"
    }
   ],
   "source": [
    "plt.figure(figsize=(10,10))\n",
    "sns.barplot(x='loan_status',y='loan_amnt', hue='term', data=loan)\n",
    "plt.xlabel(\"Loan Status\")\n",
    "plt.show()"
   ]
  },
  {
   "cell_type": "code",
   "execution_count": null,
   "id": "459cabd1",
   "metadata": {},
   "outputs": [],
   "source": []
  },
  {
   "cell_type": "code",
   "execution_count": null,
   "id": "5197e0bc",
   "metadata": {},
   "outputs": [],
   "source": []
  }
 ],
 "metadata": {
  "kernelspec": {
   "display_name": "Python 3",
   "language": "python",
   "name": "python3"
  },
  "language_info": {
   "codemirror_mode": {
    "name": "ipython",
    "version": 3
   },
   "file_extension": ".py",
   "mimetype": "text/x-python",
   "name": "python",
   "nbconvert_exporter": "python",
   "pygments_lexer": "ipython3",
   "version": "3.8.8"
  }
 },
 "nbformat": 4,
 "nbformat_minor": 5
}
