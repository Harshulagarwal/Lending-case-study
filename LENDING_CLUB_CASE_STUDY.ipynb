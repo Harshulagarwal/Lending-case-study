{
 "cells": [
  {
   "cell_type": "code",
   "execution_count": 297,
   "id": "62c22e2b",
   "metadata": {},
   "outputs": [],
   "source": [
    "import pandas as pd\n",
    "import seaborn as sns\n",
    "import numpy as np"
   ]
  },
  {
   "cell_type": "code",
   "execution_count": 298,
   "id": "9b759edf",
   "metadata": {},
   "outputs": [
    {
     "name": "stderr",
     "output_type": "stream",
     "text": [
      "C:\\Users\\harsh\\anaconda3\\lib\\site-packages\\IPython\\core\\interactiveshell.py:3165: DtypeWarning: Columns (47) have mixed types.Specify dtype option on import or set low_memory=False.\n",
      "  has_raised = await self.run_ast_nodes(code_ast.body, cell_name,\n"
     ]
    }
   ],
   "source": [
    "df = pd.read_csv(\"C:/Users/harsh/Downloads/pgdai/lending case study/loan.csv\")"
   ]
  },
  {
   "cell_type": "code",
   "execution_count": 299,
   "id": "17dd4bec",
   "metadata": {
    "scrolled": true
   },
   "outputs": [
    {
     "data": {
      "text/html": [
       "<div>\n",
       "<style scoped>\n",
       "    .dataframe tbody tr th:only-of-type {\n",
       "        vertical-align: middle;\n",
       "    }\n",
       "\n",
       "    .dataframe tbody tr th {\n",
       "        vertical-align: top;\n",
       "    }\n",
       "\n",
       "    .dataframe thead th {\n",
       "        text-align: right;\n",
       "    }\n",
       "</style>\n",
       "<table border=\"1\" class=\"dataframe\">\n",
       "  <thead>\n",
       "    <tr style=\"text-align: right;\">\n",
       "      <th></th>\n",
       "      <th>id</th>\n",
       "      <th>member_id</th>\n",
       "      <th>loan_amnt</th>\n",
       "      <th>funded_amnt</th>\n",
       "      <th>funded_amnt_inv</th>\n",
       "      <th>term</th>\n",
       "      <th>int_rate</th>\n",
       "      <th>installment</th>\n",
       "      <th>grade</th>\n",
       "      <th>sub_grade</th>\n",
       "      <th>...</th>\n",
       "      <th>num_tl_90g_dpd_24m</th>\n",
       "      <th>num_tl_op_past_12m</th>\n",
       "      <th>pct_tl_nvr_dlq</th>\n",
       "      <th>percent_bc_gt_75</th>\n",
       "      <th>pub_rec_bankruptcies</th>\n",
       "      <th>tax_liens</th>\n",
       "      <th>tot_hi_cred_lim</th>\n",
       "      <th>total_bal_ex_mort</th>\n",
       "      <th>total_bc_limit</th>\n",
       "      <th>total_il_high_credit_limit</th>\n",
       "    </tr>\n",
       "  </thead>\n",
       "  <tbody>\n",
       "    <tr>\n",
       "      <th>0</th>\n",
       "      <td>1077501</td>\n",
       "      <td>1296599</td>\n",
       "      <td>5000</td>\n",
       "      <td>5000</td>\n",
       "      <td>4975.0</td>\n",
       "      <td>36 months</td>\n",
       "      <td>10.65%</td>\n",
       "      <td>162.87</td>\n",
       "      <td>B</td>\n",
       "      <td>B2</td>\n",
       "      <td>...</td>\n",
       "      <td>NaN</td>\n",
       "      <td>NaN</td>\n",
       "      <td>NaN</td>\n",
       "      <td>NaN</td>\n",
       "      <td>0.0</td>\n",
       "      <td>0.0</td>\n",
       "      <td>NaN</td>\n",
       "      <td>NaN</td>\n",
       "      <td>NaN</td>\n",
       "      <td>NaN</td>\n",
       "    </tr>\n",
       "    <tr>\n",
       "      <th>1</th>\n",
       "      <td>1077430</td>\n",
       "      <td>1314167</td>\n",
       "      <td>2500</td>\n",
       "      <td>2500</td>\n",
       "      <td>2500.0</td>\n",
       "      <td>60 months</td>\n",
       "      <td>15.27%</td>\n",
       "      <td>59.83</td>\n",
       "      <td>C</td>\n",
       "      <td>C4</td>\n",
       "      <td>...</td>\n",
       "      <td>NaN</td>\n",
       "      <td>NaN</td>\n",
       "      <td>NaN</td>\n",
       "      <td>NaN</td>\n",
       "      <td>0.0</td>\n",
       "      <td>0.0</td>\n",
       "      <td>NaN</td>\n",
       "      <td>NaN</td>\n",
       "      <td>NaN</td>\n",
       "      <td>NaN</td>\n",
       "    </tr>\n",
       "    <tr>\n",
       "      <th>2</th>\n",
       "      <td>1077175</td>\n",
       "      <td>1313524</td>\n",
       "      <td>2400</td>\n",
       "      <td>2400</td>\n",
       "      <td>2400.0</td>\n",
       "      <td>36 months</td>\n",
       "      <td>15.96%</td>\n",
       "      <td>84.33</td>\n",
       "      <td>C</td>\n",
       "      <td>C5</td>\n",
       "      <td>...</td>\n",
       "      <td>NaN</td>\n",
       "      <td>NaN</td>\n",
       "      <td>NaN</td>\n",
       "      <td>NaN</td>\n",
       "      <td>0.0</td>\n",
       "      <td>0.0</td>\n",
       "      <td>NaN</td>\n",
       "      <td>NaN</td>\n",
       "      <td>NaN</td>\n",
       "      <td>NaN</td>\n",
       "    </tr>\n",
       "    <tr>\n",
       "      <th>3</th>\n",
       "      <td>1076863</td>\n",
       "      <td>1277178</td>\n",
       "      <td>10000</td>\n",
       "      <td>10000</td>\n",
       "      <td>10000.0</td>\n",
       "      <td>36 months</td>\n",
       "      <td>13.49%</td>\n",
       "      <td>339.31</td>\n",
       "      <td>C</td>\n",
       "      <td>C1</td>\n",
       "      <td>...</td>\n",
       "      <td>NaN</td>\n",
       "      <td>NaN</td>\n",
       "      <td>NaN</td>\n",
       "      <td>NaN</td>\n",
       "      <td>0.0</td>\n",
       "      <td>0.0</td>\n",
       "      <td>NaN</td>\n",
       "      <td>NaN</td>\n",
       "      <td>NaN</td>\n",
       "      <td>NaN</td>\n",
       "    </tr>\n",
       "    <tr>\n",
       "      <th>4</th>\n",
       "      <td>1075358</td>\n",
       "      <td>1311748</td>\n",
       "      <td>3000</td>\n",
       "      <td>3000</td>\n",
       "      <td>3000.0</td>\n",
       "      <td>60 months</td>\n",
       "      <td>12.69%</td>\n",
       "      <td>67.79</td>\n",
       "      <td>B</td>\n",
       "      <td>B5</td>\n",
       "      <td>...</td>\n",
       "      <td>NaN</td>\n",
       "      <td>NaN</td>\n",
       "      <td>NaN</td>\n",
       "      <td>NaN</td>\n",
       "      <td>0.0</td>\n",
       "      <td>0.0</td>\n",
       "      <td>NaN</td>\n",
       "      <td>NaN</td>\n",
       "      <td>NaN</td>\n",
       "      <td>NaN</td>\n",
       "    </tr>\n",
       "  </tbody>\n",
       "</table>\n",
       "<p>5 rows × 111 columns</p>\n",
       "</div>"
      ],
      "text/plain": [
       "        id  member_id  loan_amnt  funded_amnt  funded_amnt_inv        term  \\\n",
       "0  1077501    1296599       5000         5000           4975.0   36 months   \n",
       "1  1077430    1314167       2500         2500           2500.0   60 months   \n",
       "2  1077175    1313524       2400         2400           2400.0   36 months   \n",
       "3  1076863    1277178      10000        10000          10000.0   36 months   \n",
       "4  1075358    1311748       3000         3000           3000.0   60 months   \n",
       "\n",
       "  int_rate  installment grade sub_grade  ... num_tl_90g_dpd_24m  \\\n",
       "0   10.65%       162.87     B        B2  ...                NaN   \n",
       "1   15.27%        59.83     C        C4  ...                NaN   \n",
       "2   15.96%        84.33     C        C5  ...                NaN   \n",
       "3   13.49%       339.31     C        C1  ...                NaN   \n",
       "4   12.69%        67.79     B        B5  ...                NaN   \n",
       "\n",
       "  num_tl_op_past_12m pct_tl_nvr_dlq  percent_bc_gt_75 pub_rec_bankruptcies  \\\n",
       "0                NaN            NaN               NaN                  0.0   \n",
       "1                NaN            NaN               NaN                  0.0   \n",
       "2                NaN            NaN               NaN                  0.0   \n",
       "3                NaN            NaN               NaN                  0.0   \n",
       "4                NaN            NaN               NaN                  0.0   \n",
       "\n",
       "  tax_liens tot_hi_cred_lim total_bal_ex_mort total_bc_limit  \\\n",
       "0       0.0             NaN               NaN            NaN   \n",
       "1       0.0             NaN               NaN            NaN   \n",
       "2       0.0             NaN               NaN            NaN   \n",
       "3       0.0             NaN               NaN            NaN   \n",
       "4       0.0             NaN               NaN            NaN   \n",
       "\n",
       "  total_il_high_credit_limit  \n",
       "0                        NaN  \n",
       "1                        NaN  \n",
       "2                        NaN  \n",
       "3                        NaN  \n",
       "4                        NaN  \n",
       "\n",
       "[5 rows x 111 columns]"
      ]
     },
     "execution_count": 299,
     "metadata": {},
     "output_type": "execute_result"
    }
   ],
   "source": [
    "df.head()"
   ]
  },
  {
   "cell_type": "code",
   "execution_count": 300,
   "id": "fa56fd0f",
   "metadata": {},
   "outputs": [
    {
     "data": {
      "text/plain": [
       "(39717, 111)"
      ]
     },
     "execution_count": 300,
     "metadata": {},
     "output_type": "execute_result"
    }
   ],
   "source": [
    "df.shape"
   ]
  },
  {
   "cell_type": "code",
   "execution_count": 301,
   "id": "80190e36",
   "metadata": {},
   "outputs": [
    {
     "data": {
      "text/plain": [
       "Index(['id', 'member_id', 'loan_amnt', 'funded_amnt', 'funded_amnt_inv',\n",
       "       'term', 'int_rate', 'installment', 'grade', 'sub_grade',\n",
       "       ...\n",
       "       'num_tl_90g_dpd_24m', 'num_tl_op_past_12m', 'pct_tl_nvr_dlq',\n",
       "       'percent_bc_gt_75', 'pub_rec_bankruptcies', 'tax_liens',\n",
       "       'tot_hi_cred_lim', 'total_bal_ex_mort', 'total_bc_limit',\n",
       "       'total_il_high_credit_limit'],\n",
       "      dtype='object', length=111)"
      ]
     },
     "execution_count": 301,
     "metadata": {},
     "output_type": "execute_result"
    }
   ],
   "source": [
    "df.columns"
   ]
  },
  {
   "cell_type": "markdown",
   "id": "d112dc75",
   "metadata": {},
   "source": [
    "## Finding % of missing values for each cols. Removing cols having missing value greater than 60%"
   ]
  },
  {
   "cell_type": "code",
   "execution_count": 302,
   "id": "a78b072a",
   "metadata": {},
   "outputs": [
    {
     "name": "stdout",
     "output_type": "stream",
     "text": [
      "emp_title 0.06191303472064859\n",
      "emp_length 0.027066495455346576\n",
      "desc 0.3258050708764509\n",
      "title 0.00027695948838029054\n",
      "revol_util 0.0012589067653649571\n",
      "last_pymnt_d 0.001787647606818239\n",
      "last_credit_pull_d 5.0356270614598286e-05\n",
      "collections_12_mths_ex_med 0.0014099755772087519\n",
      "chargeoff_within_12_mths 0.0014099755772087519\n",
      "pub_rec_bankruptcies 0.017549160309187503\n",
      "tax_liens 0.0009819472769846665\n"
     ]
    }
   ],
   "source": [
    "for col in df.columns:\n",
    "    missing =  df[col].isnull().sum()/df[col].shape[0]\n",
    "    if missing > 0.6:\n",
    "        df.drop(col, 1, inplace = True)\n",
    "    elif missing > 0.0:\n",
    "        print(col, missing)"
   ]
  },
  {
   "cell_type": "code",
   "execution_count": 303,
   "id": "76df0d86",
   "metadata": {},
   "outputs": [
    {
     "data": {
      "text/plain": [
       "(39717, 54)"
      ]
     },
     "execution_count": 303,
     "metadata": {},
     "output_type": "execute_result"
    }
   ],
   "source": [
    "df.shape"
   ]
  },
  {
   "cell_type": "markdown",
   "id": "3697b4af",
   "metadata": {},
   "source": [
    "## Ways of Imputing Null values in Columns having less than 60% null values "
   ]
  },
  {
   "cell_type": "code",
   "execution_count": 304,
   "id": "a24aed00",
   "metadata": {},
   "outputs": [
    {
     "data": {
      "text/plain": [
       "2459"
      ]
     },
     "execution_count": 304,
     "metadata": {},
     "output_type": "execute_result"
    }
   ],
   "source": [
    "df['emp_title'].isnull().sum()"
   ]
  },
  {
   "cell_type": "code",
   "execution_count": 305,
   "id": "7449df17",
   "metadata": {},
   "outputs": [
    {
     "data": {
      "text/plain": [
       "count       37258\n",
       "unique      28820\n",
       "top       US Army\n",
       "freq          134\n",
       "Name: emp_title, dtype: object"
      ]
     },
     "execution_count": 305,
     "metadata": {},
     "output_type": "execute_result"
    }
   ],
   "source": [
    "# Can impute emp_title col with mode since it has a categorical values \n",
    "df['emp_title'].describe() \n",
    "# US ARMY value can be imputed  "
   ]
  },
  {
   "cell_type": "code",
   "execution_count": 306,
   "id": "40f7252e",
   "metadata": {},
   "outputs": [
    {
     "data": {
      "text/plain": [
       "1075"
      ]
     },
     "execution_count": 306,
     "metadata": {},
     "output_type": "execute_result"
    }
   ],
   "source": [
    "df['emp_length'].isnull().sum()"
   ]
  },
  {
   "cell_type": "code",
   "execution_count": 307,
   "id": "89437073",
   "metadata": {},
   "outputs": [
    {
     "data": {
      "text/plain": [
       "count         38642\n",
       "unique           11\n",
       "top       10+ years\n",
       "freq           8879\n",
       "Name: emp_length, dtype: object"
      ]
     },
     "execution_count": 307,
     "metadata": {},
     "output_type": "execute_result"
    }
   ],
   "source": [
    "df['emp_length'].describe()"
   ]
  },
  {
   "cell_type": "code",
   "execution_count": 308,
   "id": "e822eaed",
   "metadata": {},
   "outputs": [
    {
     "data": {
      "text/plain": [
       "11"
      ]
     },
     "execution_count": 308,
     "metadata": {},
     "output_type": "execute_result"
    }
   ],
   "source": [
    "df['title'].isnull().sum()"
   ]
  },
  {
   "cell_type": "code",
   "execution_count": 309,
   "id": "7c6e41b5",
   "metadata": {},
   "outputs": [
    {
     "data": {
      "text/plain": [
       "count                  39706\n",
       "unique                 19615\n",
       "top       Debt Consolidation\n",
       "freq                    2184\n",
       "Name: title, dtype: object"
      ]
     },
     "execution_count": 309,
     "metadata": {},
     "output_type": "execute_result"
    }
   ],
   "source": [
    "df['title'].describe()"
   ]
  },
  {
   "cell_type": "markdown",
   "id": "2ec48982",
   "metadata": {},
   "source": [
    "## Removing Rows having Null values equal to or greater than 5"
   ]
  },
  {
   "cell_type": "code",
   "execution_count": 310,
   "id": "ae85b08b",
   "metadata": {},
   "outputs": [],
   "source": [
    "df['no_of_null'] = df.isnull().sum(axis = 1)"
   ]
  },
  {
   "cell_type": "code",
   "execution_count": 311,
   "id": "ed34987b",
   "metadata": {},
   "outputs": [
    {
     "data": {
      "text/plain": [
       "count    39717.000000\n",
       "mean         0.439510\n",
       "std          0.620915\n",
       "min          0.000000\n",
       "25%          0.000000\n",
       "50%          0.000000\n",
       "75%          1.000000\n",
       "max          6.000000\n",
       "Name: no_of_null, dtype: float64"
      ]
     },
     "execution_count": 311,
     "metadata": {},
     "output_type": "execute_result"
    }
   ],
   "source": [
    "df['no_of_null'].describe()"
   ]
  },
  {
   "cell_type": "code",
   "execution_count": 312,
   "id": "5532d8be",
   "metadata": {},
   "outputs": [],
   "source": [
    "df = df[df['no_of_null'] < 5]"
   ]
  },
  {
   "cell_type": "code",
   "execution_count": 313,
   "id": "a51b538d",
   "metadata": {},
   "outputs": [
    {
     "data": {
      "text/plain": [
       "(39707, 55)"
      ]
     },
     "execution_count": 313,
     "metadata": {},
     "output_type": "execute_result"
    }
   ],
   "source": [
    "df.shape"
   ]
  },
  {
   "cell_type": "markdown",
   "id": "ce45bf36",
   "metadata": {},
   "source": [
    "## Converting datatypes of Cols "
   ]
  },
  {
   "cell_type": "code",
   "execution_count": 314,
   "id": "906b32d8",
   "metadata": {},
   "outputs": [
    {
     "data": {
      "text/plain": [
       "Index(['id', 'member_id', 'loan_amnt', 'funded_amnt', 'funded_amnt_inv',\n",
       "       'term', 'int_rate', 'installment', 'grade', 'sub_grade', 'emp_title',\n",
       "       'emp_length', 'home_ownership', 'annual_inc', 'verification_status',\n",
       "       'issue_d', 'loan_status', 'pymnt_plan', 'url', 'desc', 'purpose',\n",
       "       'title', 'zip_code', 'addr_state', 'dti', 'delinq_2yrs',\n",
       "       'earliest_cr_line', 'inq_last_6mths', 'open_acc', 'pub_rec',\n",
       "       'revol_bal', 'revol_util', 'total_acc', 'initial_list_status',\n",
       "       'out_prncp', 'out_prncp_inv', 'total_pymnt', 'total_pymnt_inv',\n",
       "       'total_rec_prncp', 'total_rec_int', 'total_rec_late_fee', 'recoveries',\n",
       "       'collection_recovery_fee', 'last_pymnt_d', 'last_pymnt_amnt',\n",
       "       'last_credit_pull_d', 'collections_12_mths_ex_med', 'policy_code',\n",
       "       'application_type', 'acc_now_delinq', 'chargeoff_within_12_mths',\n",
       "       'delinq_amnt', 'pub_rec_bankruptcies', 'tax_liens', 'no_of_null'],\n",
       "      dtype='object')"
      ]
     },
     "execution_count": 314,
     "metadata": {},
     "output_type": "execute_result"
    }
   ],
   "source": [
    "df.columns"
   ]
  },
  {
   "cell_type": "markdown",
   "id": "d4e8ebae",
   "metadata": {},
   "source": [
    "#### Converting interest rate to float type \n"
   ]
  },
  {
   "cell_type": "code",
   "execution_count": 315,
   "id": "de86a045",
   "metadata": {},
   "outputs": [
    {
     "data": {
      "text/plain": [
       "dtype('O')"
      ]
     },
     "execution_count": 315,
     "metadata": {},
     "output_type": "execute_result"
    }
   ],
   "source": [
    "df['int_rate'].dtype"
   ]
  },
  {
   "cell_type": "code",
   "execution_count": 316,
   "id": "e312f46a",
   "metadata": {},
   "outputs": [],
   "source": [
    "df['int_rate'] = df['int_rate'].apply(lambda x: x[:-1])\n",
    "df['int_rate'] = df['int_rate'].astype(float)"
   ]
  },
  {
   "cell_type": "code",
   "execution_count": 317,
   "id": "34add707",
   "metadata": {},
   "outputs": [
    {
     "data": {
      "text/plain": [
       "count    39707.000000\n",
       "mean        12.022077\n",
       "std          3.724817\n",
       "min          5.420000\n",
       "25%          9.250000\n",
       "50%         11.860000\n",
       "75%         14.590000\n",
       "max         24.590000\n",
       "Name: int_rate, dtype: float64"
      ]
     },
     "execution_count": 317,
     "metadata": {},
     "output_type": "execute_result"
    }
   ],
   "source": [
    "df['int_rate'].describe()"
   ]
  },
  {
   "cell_type": "code",
   "execution_count": 329,
   "id": "e7f1609e",
   "metadata": {},
   "outputs": [
    {
     "name": "stderr",
     "output_type": "stream",
     "text": [
      "C:\\Users\\harsh\\anaconda3\\lib\\site-packages\\seaborn\\_decorators.py:36: FutureWarning: Pass the following variable as a keyword arg: x. From version 0.12, the only valid positional argument will be `data`, and passing other arguments without an explicit keyword will result in an error or misinterpretation.\n",
      "  warnings.warn(\n"
     ]
    },
    {
     "data": {
      "text/plain": [
       "<AxesSubplot:xlabel='int_rate'>"
      ]
     },
     "execution_count": 329,
     "metadata": {},
     "output_type": "execute_result"
    },
    {
     "data": {
      "image/png": "[encoded data removed]",
      "text/plain": [
       "<Figure size 432x288 with 1 Axes>"
      ]
     },
     "metadata": {
      "needs_background": "light"
     },
     "output_type": "display_data"
    }
   ],
   "source": [
    "# Checking for Outliers\n",
    "sns.boxplot(df['int_rate'])"
   ]
  },
  {
   "cell_type": "markdown",
   "id": "b01d722a",
   "metadata": {},
   "source": [
    "#### Converting emp_length to int type \n"
   ]
  },
  {
   "cell_type": "code",
   "execution_count": 318,
   "id": "11490ffa",
   "metadata": {},
   "outputs": [
    {
     "data": {
      "text/plain": [
       "dtype('O')"
      ]
     },
     "execution_count": 318,
     "metadata": {},
     "output_type": "execute_result"
    }
   ],
   "source": [
    "df['emp_length'].dtype"
   ]
  },
  {
   "cell_type": "code",
   "execution_count": 319,
   "id": "48a2791e",
   "metadata": {},
   "outputs": [
    {
     "data": {
      "text/plain": [
       "10+ years    8879\n",
       "< 1 year     4575\n",
       "2 years      4388\n",
       "3 years      4095\n",
       "4 years      3435\n",
       "5 years      3282\n",
       "1 year       3239\n",
       "6 years      2229\n",
       "7 years      1773\n",
       "8 years      1479\n",
       "9 years      1258\n",
       "Name: emp_length, dtype: int64"
      ]
     },
     "execution_count": 319,
     "metadata": {},
     "output_type": "execute_result"
    }
   ],
   "source": [
    "df['emp_length'].value_counts()\n"
   ]
  },
  {
   "cell_type": "code",
   "execution_count": 320,
   "id": "c2c8786d",
   "metadata": {},
   "outputs": [
    {
     "data": {
      "text/plain": [
       "1075"
      ]
     },
     "execution_count": 320,
     "metadata": {},
     "output_type": "execute_result"
    }
   ],
   "source": [
    "df['emp_length'].isnull().sum()"
   ]
  },
  {
   "cell_type": "code",
   "execution_count": 321,
   "id": "29a86ddd",
   "metadata": {},
   "outputs": [],
   "source": [
    "# dropping rows where employee length is null\n",
    "df = df[~df['emp_length'].isnull()]"
   ]
  },
  {
   "cell_type": "code",
   "execution_count": 322,
   "id": "0b33d92e",
   "metadata": {},
   "outputs": [],
   "source": [
    "df['emp_length'] = df['emp_length'].apply(lambda x: '0' if x == '< 1 year' else ( '10' if x == '10+ years' else x[0] ))"
   ]
  },
  {
   "cell_type": "code",
   "execution_count": 324,
   "id": "f13a5c85",
   "metadata": {},
   "outputs": [],
   "source": [
    "df['emp_length'] = df['emp_length'].astype(int)"
   ]
  },
  {
   "cell_type": "code",
   "execution_count": 326,
   "id": "5157a869",
   "metadata": {},
   "outputs": [
    {
     "data": {
      "text/plain": [
       "count    38632.000000\n",
       "mean         4.974607\n",
       "std          3.562262\n",
       "min          0.000000\n",
       "25%          2.000000\n",
       "50%          4.000000\n",
       "75%          9.000000\n",
       "max         10.000000\n",
       "Name: emp_length, dtype: float64"
      ]
     },
     "execution_count": 326,
     "metadata": {},
     "output_type": "execute_result"
    }
   ],
   "source": [
    "df['emp_length'].describe()"
   ]
  },
  {
   "cell_type": "code",
   "execution_count": 327,
   "id": "cafec66d",
   "metadata": {},
   "outputs": [
    {
     "data": {
      "text/plain": [
       "<AxesSubplot:xlabel='emp_length', ylabel='Count'>"
      ]
     },
     "execution_count": 327,
     "metadata": {},
     "output_type": "execute_result"
    },
    {
     "data": {
      "image/png": "[encoded data removed]",
      "text/plain": [
       "<Figure size 432x288 with 1 Axes>"
      ]
     },
     "metadata": {
      "needs_background": "light"
     },
     "output_type": "display_data"
    }
   ],
   "source": [
    "sns.histplot(df['emp_length'])"
   ]
  },
  {
   "cell_type": "markdown",
   "id": "fb057717",
   "metadata": {},
   "source": [
    "## Removing unnecessary cols as per domain requirement"
   ]
  },
  {
   "cell_type": "code",
   "execution_count": 332,
   "id": "13542c93",
   "metadata": {},
   "outputs": [
    {
     "data": {
      "text/plain": [
       "Index(['id', 'member_id', 'loan_amnt', 'funded_amnt', 'funded_amnt_inv',\n",
       "       'term', 'int_rate', 'installment', 'grade', 'sub_grade', 'emp_title',\n",
       "       'emp_length', 'home_ownership', 'annual_inc', 'verification_status',\n",
       "       'issue_d', 'loan_status', 'pymnt_plan', 'url', 'desc', 'purpose',\n",
       "       'title', 'zip_code', 'addr_state', 'dti', 'delinq_2yrs',\n",
       "       'earliest_cr_line', 'inq_last_6mths', 'open_acc', 'pub_rec',\n",
       "       'revol_bal', 'revol_util', 'total_acc', 'initial_list_status',\n",
       "       'out_prncp', 'out_prncp_inv', 'total_pymnt', 'total_pymnt_inv',\n",
       "       'total_rec_prncp', 'total_rec_int', 'total_rec_late_fee', 'recoveries',\n",
       "       'collection_recovery_fee', 'last_pymnt_d', 'last_pymnt_amnt',\n",
       "       'last_credit_pull_d', 'collections_12_mths_ex_med', 'policy_code',\n",
       "       'application_type', 'acc_now_delinq', 'chargeoff_within_12_mths',\n",
       "       'delinq_amnt', 'pub_rec_bankruptcies', 'tax_liens', 'no_of_null'],\n",
       "      dtype='object')"
      ]
     },
     "execution_count": 332,
     "metadata": {},
     "output_type": "execute_result"
    }
   ],
   "source": [
    "df.columns"
   ]
  },
  {
   "cell_type": "code",
   "execution_count": null,
   "id": "a3ea0e53",
   "metadata": {},
   "outputs": [],
   "source": [
    "# Necessary columns: \n",
    "# Cols related to applicant : Grade, subgrade, emp_title, emp_length, home_ownership, annual_inc, verification_status, dti\n",
    "# Cols related to application : issue_d, pymnt_plan, desc, purpose, title, application_type, int_rate, term, loan_amnt"
   ]
  },
  {
   "cell_type": "code",
   "execution_count": 336,
   "id": "c0839966",
   "metadata": {},
   "outputs": [],
   "source": [
    "df1 = df[['loan_amnt','term', 'int_rate', 'installment', 'grade', 'sub_grade', 'emp_title',\n",
    "       'emp_length', 'home_ownership', 'annual_inc', 'verification_status',\n",
    "       'issue_d', 'loan_status','purpose',\n",
    "       'title', 'addr_state', 'dti','total_pymnt' ]]"
   ]
  },
  {
   "cell_type": "code",
   "execution_count": 337,
   "id": "09f507be",
   "metadata": {},
   "outputs": [
    {
     "data": {
      "text/html": [
       "<div>\n",
       "<style scoped>\n",
       "    .dataframe tbody tr th:only-of-type {\n",
       "        vertical-align: middle;\n",
       "    }\n",
       "\n",
       "    .dataframe tbody tr th {\n",
       "        vertical-align: top;\n",
       "    }\n",
       "\n",
       "    .dataframe thead th {\n",
       "        text-align: right;\n",
       "    }\n",
       "</style>\n",
       "<table border=\"1\" class=\"dataframe\">\n",
       "  <thead>\n",
       "    <tr style=\"text-align: right;\">\n",
       "      <th></th>\n",
       "      <th>loan_amnt</th>\n",
       "      <th>term</th>\n",
       "      <th>int_rate</th>\n",
       "      <th>installment</th>\n",
       "      <th>grade</th>\n",
       "      <th>sub_grade</th>\n",
       "      <th>emp_title</th>\n",
       "      <th>emp_length</th>\n",
       "      <th>home_ownership</th>\n",
       "      <th>annual_inc</th>\n",
       "      <th>verification_status</th>\n",
       "      <th>issue_d</th>\n",
       "      <th>loan_status</th>\n",
       "      <th>purpose</th>\n",
       "      <th>title</th>\n",
       "      <th>addr_state</th>\n",
       "      <th>dti</th>\n",
       "      <th>total_pymnt</th>\n",
       "    </tr>\n",
       "  </thead>\n",
       "  <tbody>\n",
       "    <tr>\n",
       "      <th>0</th>\n",
       "      <td>5000</td>\n",
       "      <td>36 months</td>\n",
       "      <td>10.65</td>\n",
       "      <td>162.87</td>\n",
       "      <td>B</td>\n",
       "      <td>B2</td>\n",
       "      <td>NaN</td>\n",
       "      <td>10</td>\n",
       "      <td>RENT</td>\n",
       "      <td>24000.0</td>\n",
       "      <td>Verified</td>\n",
       "      <td>Dec-11</td>\n",
       "      <td>Fully Paid</td>\n",
       "      <td>credit_card</td>\n",
       "      <td>Computer</td>\n",
       "      <td>AZ</td>\n",
       "      <td>27.65</td>\n",
       "      <td>5863.155187</td>\n",
       "    </tr>\n",
       "    <tr>\n",
       "      <th>1</th>\n",
       "      <td>2500</td>\n",
       "      <td>60 months</td>\n",
       "      <td>15.27</td>\n",
       "      <td>59.83</td>\n",
       "      <td>C</td>\n",
       "      <td>C4</td>\n",
       "      <td>Ryder</td>\n",
       "      <td>0</td>\n",
       "      <td>RENT</td>\n",
       "      <td>30000.0</td>\n",
       "      <td>Source Verified</td>\n",
       "      <td>Dec-11</td>\n",
       "      <td>Charged Off</td>\n",
       "      <td>car</td>\n",
       "      <td>bike</td>\n",
       "      <td>GA</td>\n",
       "      <td>1.00</td>\n",
       "      <td>1008.710000</td>\n",
       "    </tr>\n",
       "    <tr>\n",
       "      <th>2</th>\n",
       "      <td>2400</td>\n",
       "      <td>36 months</td>\n",
       "      <td>15.96</td>\n",
       "      <td>84.33</td>\n",
       "      <td>C</td>\n",
       "      <td>C5</td>\n",
       "      <td>NaN</td>\n",
       "      <td>10</td>\n",
       "      <td>RENT</td>\n",
       "      <td>12252.0</td>\n",
       "      <td>Not Verified</td>\n",
       "      <td>Dec-11</td>\n",
       "      <td>Fully Paid</td>\n",
       "      <td>small_business</td>\n",
       "      <td>real estate business</td>\n",
       "      <td>IL</td>\n",
       "      <td>8.72</td>\n",
       "      <td>3005.666844</td>\n",
       "    </tr>\n",
       "    <tr>\n",
       "      <th>3</th>\n",
       "      <td>10000</td>\n",
       "      <td>36 months</td>\n",
       "      <td>13.49</td>\n",
       "      <td>339.31</td>\n",
       "      <td>C</td>\n",
       "      <td>C1</td>\n",
       "      <td>AIR RESOURCES BOARD</td>\n",
       "      <td>10</td>\n",
       "      <td>RENT</td>\n",
       "      <td>49200.0</td>\n",
       "      <td>Source Verified</td>\n",
       "      <td>Dec-11</td>\n",
       "      <td>Fully Paid</td>\n",
       "      <td>other</td>\n",
       "      <td>personel</td>\n",
       "      <td>CA</td>\n",
       "      <td>20.00</td>\n",
       "      <td>12231.890000</td>\n",
       "    </tr>\n",
       "    <tr>\n",
       "      <th>4</th>\n",
       "      <td>3000</td>\n",
       "      <td>60 months</td>\n",
       "      <td>12.69</td>\n",
       "      <td>67.79</td>\n",
       "      <td>B</td>\n",
       "      <td>B5</td>\n",
       "      <td>University Medical Group</td>\n",
       "      <td>1</td>\n",
       "      <td>RENT</td>\n",
       "      <td>80000.0</td>\n",
       "      <td>Source Verified</td>\n",
       "      <td>Dec-11</td>\n",
       "      <td>Current</td>\n",
       "      <td>other</td>\n",
       "      <td>Personal</td>\n",
       "      <td>OR</td>\n",
       "      <td>17.94</td>\n",
       "      <td>3513.330000</td>\n",
       "    </tr>\n",
       "  </tbody>\n",
       "</table>\n",
       "</div>"
      ],
      "text/plain": [
       "   loan_amnt        term  int_rate  installment grade sub_grade  \\\n",
       "0       5000   36 months     10.65       162.87     B        B2   \n",
       "1       2500   60 months     15.27        59.83     C        C4   \n",
       "2       2400   36 months     15.96        84.33     C        C5   \n",
       "3      10000   36 months     13.49       339.31     C        C1   \n",
       "4       3000   60 months     12.69        67.79     B        B5   \n",
       "\n",
       "                  emp_title  emp_length home_ownership  annual_inc  \\\n",
       "0                       NaN          10           RENT     24000.0   \n",
       "1                     Ryder           0           RENT     30000.0   \n",
       "2                       NaN          10           RENT     12252.0   \n",
       "3       AIR RESOURCES BOARD          10           RENT     49200.0   \n",
       "4  University Medical Group           1           RENT     80000.0   \n",
       "\n",
       "  verification_status issue_d  loan_status         purpose  \\\n",
       "0            Verified  Dec-11   Fully Paid     credit_card   \n",
       "1     Source Verified  Dec-11  Charged Off             car   \n",
       "2        Not Verified  Dec-11   Fully Paid  small_business   \n",
       "3     Source Verified  Dec-11   Fully Paid           other   \n",
       "4     Source Verified  Dec-11      Current           other   \n",
       "\n",
       "                  title addr_state    dti   total_pymnt  \n",
       "0              Computer         AZ  27.65   5863.155187  \n",
       "1                  bike         GA   1.00   1008.710000  \n",
       "2  real estate business         IL   8.72   3005.666844  \n",
       "3              personel         CA  20.00  12231.890000  \n",
       "4              Personal         OR  17.94   3513.330000  "
      ]
     },
     "execution_count": 337,
     "metadata": {},
     "output_type": "execute_result"
    }
   ],
   "source": [
    "df1.head()"
   ]
  },
  {
   "cell_type": "code",
   "execution_count": null,
   "id": "4c971bc0",
   "metadata": {},
   "outputs": [],
   "source": [
    "df1['loan_status'].value_counts()"
   ]
  },
  {
   "cell_type": "code",
   "execution_count": 339,
   "id": "90d21b09",
   "metadata": {},
   "outputs": [],
   "source": [
    "df1 = df1[df1['loan_status'] != 'Current']"
   ]
  },
  {
   "cell_type": "code",
   "execution_count": 340,
   "id": "a1a346c6",
   "metadata": {},
   "outputs": [],
   "source": [
    "df1['loan_status'] = df1['loan_status'].apply(lambda x: 1 if x =='Charged Off' else 0 )"
   ]
  },
  {
   "cell_type": "code",
   "execution_count": 344,
   "id": "c8e95aad",
   "metadata": {},
   "outputs": [
    {
     "data": {
      "text/plain": [
       "(37534, 18)"
      ]
     },
     "execution_count": 344,
     "metadata": {},
     "output_type": "execute_result"
    }
   ],
   "source": [
    "df1.shape"
   ]
  },
  {
   "cell_type": "code",
   "execution_count": 352,
   "id": "5d0c4be1",
   "metadata": {},
   "outputs": [
    {
     "data": {
      "text/plain": [
       "US Army                         131\n",
       "Bank of America                 107\n",
       "IBM                              65\n",
       "AT&T                             57\n",
       "Kaiser Permanente                56\n",
       "                               ... \n",
       "Lichten & Liss-Riordan, P.C.      1\n",
       "sax macy fromm and company        1\n",
       "AKER PHILADELPHIA SHIPYARD        1\n",
       "Sunnrise Asiisted Living          1\n",
       "Capital Tri-State                 1\n",
       "Name: emp_title, Length: 27980, dtype: int64"
      ]
     },
     "execution_count": 352,
     "metadata": {},
     "output_type": "execute_result"
    }
   ],
   "source": [
    "df1['emp_title'].value_counts()"
   ]
  },
  {
   "cell_type": "code",
   "execution_count": 354,
   "id": "9a834b77",
   "metadata": {},
   "outputs": [],
   "source": [
    "#  Dropping emp_title col since it will not help in analysing \n",
    "df1 = df1.drop('emp_title', 1)"
   ]
  },
  {
   "cell_type": "code",
   "execution_count": 357,
   "id": "30ea0ccf",
   "metadata": {},
   "outputs": [
    {
     "data": {
      "text/plain": [
       "debt_consolidation    17231\n",
       "credit_card            4719\n",
       "other                  3578\n",
       "home_improvement       2666\n",
       "major_purchase         2002\n",
       "car                    1413\n",
       "small_business         1406\n",
       "wedding                 890\n",
       "medical                 633\n",
       "moving                  534\n",
       "vacation                338\n",
       "house                   336\n",
       "educational             299\n",
       "renewable_energy         88\n",
       "Name: purpose, dtype: int64"
      ]
     },
     "execution_count": 357,
     "metadata": {},
     "output_type": "execute_result"
    }
   ],
   "source": [
    "df1['purpose'].value_counts()"
   ]
  },
  {
   "cell_type": "code",
   "execution_count": 358,
   "id": "2b76db1f",
   "metadata": {},
   "outputs": [
    {
     "data": {
      "text/plain": [
       "Debt Consolidation                          2000\n",
       "Debt Consolidation Loan                     1549\n",
       "Personal Loan                                614\n",
       "Consolidation                                475\n",
       "debt consolidation                           446\n",
       "                                            ... \n",
       "HOME IMPROVE LOAN NEEDED TO GET KIDS OUT       1\n",
       "Pay Off Credit Cards Reduce Debt               1\n",
       "BAS Consolidation                              1\n",
       "IT Franchise Purchase                          1\n",
       "My Family Emergency Loan                       1\n",
       "Name: title, Length: 18096, dtype: int64"
      ]
     },
     "execution_count": 358,
     "metadata": {},
     "output_type": "execute_result"
    }
   ],
   "source": [
    "df1['title'].value_counts()"
   ]
  },
  {
   "cell_type": "code",
   "execution_count": 359,
   "id": "759568f9",
   "metadata": {},
   "outputs": [],
   "source": [
    "#  Dropping title col since we have similar column named purpose which has 14 uniques categories.\n",
    "df1 = df1.drop('title', 1)"
   ]
  },
  {
   "cell_type": "code",
   "execution_count": 360,
   "id": "3fb2c5d1",
   "metadata": {},
   "outputs": [
    {
     "data": {
      "text/plain": [
       "0"
      ]
     },
     "execution_count": 360,
     "metadata": {},
     "output_type": "execute_result"
    }
   ],
   "source": [
    "# Cleaning Term col\n",
    "df1['term'].isnull().sum()"
   ]
  },
  {
   "cell_type": "code",
   "execution_count": 361,
   "id": "f15da118",
   "metadata": {},
   "outputs": [],
   "source": [
    "df1['term'] = df1['term'].apply(lambda x: x.split(\" \")[-2])"
   ]
  },
  {
   "cell_type": "code",
   "execution_count": 362,
   "id": "c989fa08",
   "metadata": {},
   "outputs": [
    {
     "data": {
      "text/html": [
       "<div>\n",
       "<style scoped>\n",
       "    .dataframe tbody tr th:only-of-type {\n",
       "        vertical-align: middle;\n",
       "    }\n",
       "\n",
       "    .dataframe tbody tr th {\n",
       "        vertical-align: top;\n",
       "    }\n",
       "\n",
       "    .dataframe thead th {\n",
       "        text-align: right;\n",
       "    }\n",
       "</style>\n",
       "<table border=\"1\" class=\"dataframe\">\n",
       "  <thead>\n",
       "    <tr style=\"text-align: right;\">\n",
       "      <th></th>\n",
       "      <th>loan_amnt</th>\n",
       "      <th>term</th>\n",
       "      <th>int_rate</th>\n",
       "      <th>installment</th>\n",
       "      <th>grade</th>\n",
       "      <th>sub_grade</th>\n",
       "      <th>emp_length</th>\n",
       "      <th>home_ownership</th>\n",
       "      <th>annual_inc</th>\n",
       "      <th>verification_status</th>\n",
       "      <th>issue_d</th>\n",
       "      <th>loan_status</th>\n",
       "      <th>purpose</th>\n",
       "      <th>addr_state</th>\n",
       "      <th>dti</th>\n",
       "      <th>total_pymnt</th>\n",
       "    </tr>\n",
       "  </thead>\n",
       "  <tbody>\n",
       "    <tr>\n",
       "      <th>1</th>\n",
       "      <td>2500</td>\n",
       "      <td>60</td>\n",
       "      <td>15.27</td>\n",
       "      <td>59.83</td>\n",
       "      <td>C</td>\n",
       "      <td>C4</td>\n",
       "      <td>0</td>\n",
       "      <td>RENT</td>\n",
       "      <td>30000.0</td>\n",
       "      <td>Source Verified</td>\n",
       "      <td>Dec-11</td>\n",
       "      <td>1</td>\n",
       "      <td>car</td>\n",
       "      <td>GA</td>\n",
       "      <td>1.00</td>\n",
       "      <td>1008.710000</td>\n",
       "    </tr>\n",
       "    <tr>\n",
       "      <th>3</th>\n",
       "      <td>10000</td>\n",
       "      <td>36</td>\n",
       "      <td>13.49</td>\n",
       "      <td>339.31</td>\n",
       "      <td>C</td>\n",
       "      <td>C1</td>\n",
       "      <td>10</td>\n",
       "      <td>RENT</td>\n",
       "      <td>49200.0</td>\n",
       "      <td>Source Verified</td>\n",
       "      <td>Dec-11</td>\n",
       "      <td>0</td>\n",
       "      <td>other</td>\n",
       "      <td>CA</td>\n",
       "      <td>20.00</td>\n",
       "      <td>12231.890000</td>\n",
       "    </tr>\n",
       "    <tr>\n",
       "      <th>5</th>\n",
       "      <td>5000</td>\n",
       "      <td>36</td>\n",
       "      <td>7.90</td>\n",
       "      <td>156.46</td>\n",
       "      <td>A</td>\n",
       "      <td>A4</td>\n",
       "      <td>3</td>\n",
       "      <td>RENT</td>\n",
       "      <td>36000.0</td>\n",
       "      <td>Source Verified</td>\n",
       "      <td>Dec-11</td>\n",
       "      <td>0</td>\n",
       "      <td>wedding</td>\n",
       "      <td>AZ</td>\n",
       "      <td>11.20</td>\n",
       "      <td>5632.210000</td>\n",
       "    </tr>\n",
       "    <tr>\n",
       "      <th>6</th>\n",
       "      <td>7000</td>\n",
       "      <td>60</td>\n",
       "      <td>15.96</td>\n",
       "      <td>170.08</td>\n",
       "      <td>C</td>\n",
       "      <td>C5</td>\n",
       "      <td>8</td>\n",
       "      <td>RENT</td>\n",
       "      <td>47004.0</td>\n",
       "      <td>Not Verified</td>\n",
       "      <td>Dec-11</td>\n",
       "      <td>0</td>\n",
       "      <td>debt_consolidation</td>\n",
       "      <td>NC</td>\n",
       "      <td>23.51</td>\n",
       "      <td>10110.840000</td>\n",
       "    </tr>\n",
       "    <tr>\n",
       "      <th>7</th>\n",
       "      <td>3000</td>\n",
       "      <td>36</td>\n",
       "      <td>18.64</td>\n",
       "      <td>109.43</td>\n",
       "      <td>E</td>\n",
       "      <td>E1</td>\n",
       "      <td>9</td>\n",
       "      <td>RENT</td>\n",
       "      <td>48000.0</td>\n",
       "      <td>Source Verified</td>\n",
       "      <td>Dec-11</td>\n",
       "      <td>0</td>\n",
       "      <td>car</td>\n",
       "      <td>CA</td>\n",
       "      <td>5.35</td>\n",
       "      <td>3939.135294</td>\n",
       "    </tr>\n",
       "  </tbody>\n",
       "</table>\n",
       "</div>"
      ],
      "text/plain": [
       "   loan_amnt term  int_rate  installment grade sub_grade  emp_length  \\\n",
       "1       2500   60     15.27        59.83     C        C4           0   \n",
       "3      10000   36     13.49       339.31     C        C1          10   \n",
       "5       5000   36      7.90       156.46     A        A4           3   \n",
       "6       7000   60     15.96       170.08     C        C5           8   \n",
       "7       3000   36     18.64       109.43     E        E1           9   \n",
       "\n",
       "  home_ownership  annual_inc verification_status issue_d  loan_status  \\\n",
       "1           RENT     30000.0     Source Verified  Dec-11            1   \n",
       "3           RENT     49200.0     Source Verified  Dec-11            0   \n",
       "5           RENT     36000.0     Source Verified  Dec-11            0   \n",
       "6           RENT     47004.0        Not Verified  Dec-11            0   \n",
       "7           RENT     48000.0     Source Verified  Dec-11            0   \n",
       "\n",
       "              purpose addr_state    dti   total_pymnt  \n",
       "1                 car         GA   1.00   1008.710000  \n",
       "3               other         CA  20.00  12231.890000  \n",
       "5             wedding         AZ  11.20   5632.210000  \n",
       "6  debt_consolidation         NC  23.51  10110.840000  \n",
       "7                 car         CA   5.35   3939.135294  "
      ]
     },
     "execution_count": 362,
     "metadata": {},
     "output_type": "execute_result"
    }
   ],
   "source": [
    "df1.head()"
   ]
  },
  {
   "cell_type": "markdown",
   "id": "3166d610",
   "metadata": {},
   "source": [
    "### Univariate Analysis"
   ]
  },
  {
   "cell_type": "code",
   "execution_count": 380,
   "id": "6e2844d6",
   "metadata": {},
   "outputs": [
    {
     "data": {
      "text/plain": [
       "count     36045.000000\n",
       "mean      67223.249230\n",
       "std       39325.522748\n",
       "min        4000.000000\n",
       "25%       41000.000000\n",
       "50%       59578.440000\n",
       "75%       82000.000000\n",
       "max      399996.000000\n",
       "Name: annual_inc, dtype: float64"
      ]
     },
     "execution_count": 380,
     "metadata": {},
     "output_type": "execute_result"
    }
   ],
   "source": [
    "# Checking Outliers in Annual_inc\n",
    "df1['annual_inc'].describe()"
   ]
  },
  {
   "cell_type": "code",
   "execution_count": 367,
   "id": "5bd78fff",
   "metadata": {},
   "outputs": [
    {
     "name": "stderr",
     "output_type": "stream",
     "text": [
      "C:\\Users\\harsh\\anaconda3\\lib\\site-packages\\seaborn\\_decorators.py:36: FutureWarning: Pass the following variable as a keyword arg: x. From version 0.12, the only valid positional argument will be `data`, and passing other arguments without an explicit keyword will result in an error or misinterpretation.\n",
      "  warnings.warn(\n"
     ]
    },
    {
     "data": {
      "text/plain": [
       "<AxesSubplot:xlabel='annual_inc'>"
      ]
     },
     "execution_count": 367,
     "metadata": {},
     "output_type": "execute_result"
    },
    {
     "data": {
      "image/png": "[encoded data removed]",
      "text/plain": [
       "<Figure size 432x288 with 1 Axes>"
      ]
     },
     "metadata": {
      "needs_background": "light"
     },
     "output_type": "display_data"
    }
   ],
   "source": [
    "sns.boxplot(df1['annual_inc'] )"
   ]
  },
  {
   "cell_type": "code",
   "execution_count": 372,
   "id": "1f723852",
   "metadata": {},
   "outputs": [],
   "source": [
    "df1= df1[df1['annual_inc']< 400000]"
   ]
  },
  {
   "cell_type": "code",
   "execution_count": 373,
   "id": "80188829",
   "metadata": {},
   "outputs": [
    {
     "name": "stderr",
     "output_type": "stream",
     "text": [
      "C:\\Users\\harsh\\anaconda3\\lib\\site-packages\\seaborn\\_decorators.py:36: FutureWarning: Pass the following variable as a keyword arg: x. From version 0.12, the only valid positional argument will be `data`, and passing other arguments without an explicit keyword will result in an error or misinterpretation.\n",
      "  warnings.warn(\n"
     ]
    },
    {
     "data": {
      "text/plain": [
       "<AxesSubplot:xlabel='annual_inc'>"
      ]
     },
     "execution_count": 373,
     "metadata": {},
     "output_type": "execute_result"
    },
    {
     "data": {
      "image/png": "[encoded data removed]",
      "text/plain": [
       "<Figure size 432x288 with 1 Axes>"
      ]
     },
     "metadata": {
      "needs_background": "light"
     },
     "output_type": "display_data"
    }
   ],
   "source": [
    "sns.boxplot(df1['annual_inc'] )"
   ]
  },
  {
   "cell_type": "code",
   "execution_count": 378,
   "id": "b1a38b32",
   "metadata": {},
   "outputs": [
    {
     "name": "stderr",
     "output_type": "stream",
     "text": [
      "C:\\Users\\harsh\\anaconda3\\lib\\site-packages\\seaborn\\_decorators.py:36: FutureWarning: Pass the following variable as a keyword arg: x. From version 0.12, the only valid positional argument will be `data`, and passing other arguments without an explicit keyword will result in an error or misinterpretation.\n",
      "  warnings.warn(\n"
     ]
    },
    {
     "data": {
      "text/plain": [
       "<AxesSubplot:xlabel='loan_amnt'>"
      ]
     },
     "execution_count": 378,
     "metadata": {},
     "output_type": "execute_result"
    },
    {
     "data": {
      "image/png": "[encoded data removed]",
      "text/plain": [
       "<Figure size 432x288 with 1 Axes>"
      ]
     },
     "metadata": {
      "needs_background": "light"
     },
     "output_type": "display_data"
    }
   ],
   "source": [
    "# Checking distribution of loan amount\n",
    "sns.boxplot(df1['loan_amnt'] )"
   ]
  },
  {
   "cell_type": "code",
   "execution_count": 384,
   "id": "c95835c5",
   "metadata": {},
   "outputs": [
    {
     "data": {
      "text/plain": [
       "<AxesSubplot:xlabel='term', ylabel='Count'>"
      ]
     },
     "execution_count": 384,
     "metadata": {},
     "output_type": "execute_result"
    },
    {
     "data": {
      "image/png": "[encoded data removed]",
      "text/plain": [
       "<Figure size 432x288 with 1 Axes>"
      ]
     },
     "metadata": {
      "needs_background": "light"
     },
     "output_type": "display_data"
    }
   ],
   "source": [
    "sns.histplot(df1['term'])"
   ]
  },
  {
   "cell_type": "code",
   "execution_count": 387,
   "id": "29cae746",
   "metadata": {},
   "outputs": [
    {
     "data": {
      "text/plain": [
       "<AxesSubplot:xlabel='home_ownership', ylabel='Count'>"
      ]
     },
     "execution_count": 387,
     "metadata": {},
     "output_type": "execute_result"
    },
    {
     "data": {
      "image/png": "[encoded data removed]",
      "text/plain": [
       "<Figure size 432x288 with 1 Axes>"
      ]
     },
     "metadata": {
      "needs_background": "light"
     },
     "output_type": "display_data"
    }
   ],
   "source": [
    "sns.histplot(df1['home_ownership'])"
   ]
  },
  {
   "cell_type": "code",
   "execution_count": 388,
   "id": "d93b377b",
   "metadata": {},
   "outputs": [
    {
     "data": {
      "text/plain": [
       "<AxesSubplot:xlabel='verification_status', ylabel='Count'>"
      ]
     },
     "execution_count": 388,
     "metadata": {},
     "output_type": "execute_result"
    },
    {
     "data": {
      "image/png": "[encoded data removed]",
      "text/plain": [
       "<Figure size 432x288 with 1 Axes>"
      ]
     },
     "metadata": {
      "needs_background": "light"
     },
     "output_type": "display_data"
    }
   ],
   "source": [
    "sns.histplot(df1['verification_status'])"
   ]
  },
  {
   "cell_type": "code",
   "execution_count": 389,
   "id": "f6ae048f",
   "metadata": {},
   "outputs": [
    {
     "data": {
      "text/plain": [
       "<AxesSubplot:xlabel='purpose', ylabel='Count'>"
      ]
     },
     "execution_count": 389,
     "metadata": {},
     "output_type": "execute_result"
    },
    {
     "data": {
      "image/png": "[encoded data removed]",
      "text/plain": [
       "<Figure size 432x288 with 1 Axes>"
      ]
     },
     "metadata": {
      "needs_background": "light"
     },
     "output_type": "display_data"
    }
   ],
   "source": [
    "sns.histplot(df1['purpose'])"
   ]
  },
  {
   "cell_type": "code",
   "execution_count": 397,
   "id": "a3095e9f",
   "metadata": {},
   "outputs": [
    {
     "data": {
      "text/plain": [
       "debt_consolidation    17202\n",
       "credit_card            4711\n",
       "other                  3571\n",
       "home_improvement       2647\n",
       "major_purchase         1993\n",
       "car                    1413\n",
       "small_business         1402\n",
       "wedding                 887\n",
       "medical                 630\n",
       "moving                  533\n",
       "vacation                338\n",
       "house                   334\n",
       "educational             298\n",
       "renewable_energy         86\n",
       "Name: purpose, dtype: int64"
      ]
     },
     "execution_count": 397,
     "metadata": {},
     "output_type": "execute_result"
    }
   ],
   "source": [
    "df1['purpose'].value_counts()"
   ]
  },
  {
   "cell_type": "code",
   "execution_count": 398,
   "id": "9c380c5d",
   "metadata": {},
   "outputs": [
    {
     "name": "stderr",
     "output_type": "stream",
     "text": [
      "C:\\Users\\harsh\\anaconda3\\lib\\site-packages\\seaborn\\_decorators.py:36: FutureWarning: Pass the following variable as a keyword arg: x. From version 0.12, the only valid positional argument will be `data`, and passing other arguments without an explicit keyword will result in an error or misinterpretation.\n",
      "  warnings.warn(\n"
     ]
    },
    {
     "data": {
      "text/plain": [
       "<AxesSubplot:xlabel='dti'>"
      ]
     },
     "execution_count": 398,
     "metadata": {},
     "output_type": "execute_result"
    },
    {
     "data": {
      "image/png": "[encoded data removed]",
      "text/plain": [
       "<Figure size 432x288 with 1 Axes>"
      ]
     },
     "metadata": {
      "needs_background": "light"
     },
     "output_type": "display_data"
    }
   ],
   "source": [
    "sns.boxplot(df1['dti'])"
   ]
  },
  {
   "cell_type": "code",
   "execution_count": 399,
   "id": "2a8d6957",
   "metadata": {},
   "outputs": [
    {
     "name": "stderr",
     "output_type": "stream",
     "text": [
      "C:\\Users\\harsh\\anaconda3\\lib\\site-packages\\seaborn\\_decorators.py:36: FutureWarning: Pass the following variable as a keyword arg: x. From version 0.12, the only valid positional argument will be `data`, and passing other arguments without an explicit keyword will result in an error or misinterpretation.\n",
      "  warnings.warn(\n"
     ]
    },
    {
     "data": {
      "text/plain": [
       "<AxesSubplot:xlabel='int_rate'>"
      ]
     },
     "execution_count": 399,
     "metadata": {},
     "output_type": "execute_result"
    },
    {
     "data": {
      "image/png": "[encoded data removed]",
      "text/plain": [
       "<Figure size 432x288 with 1 Axes>"
      ]
     },
     "metadata": {
      "needs_background": "light"
     },
     "output_type": "display_data"
    }
   ],
   "source": [
    "sns.boxplot(df1['int_rate'])"
   ]
  },
  {
   "cell_type": "code",
   "execution_count": 374,
   "id": "7bdb8ae9",
   "metadata": {
    "scrolled": true
   },
   "outputs": [
    {
     "data": {
      "text/plain": [
       "CA    6489\n",
       "NY    3464\n",
       "FL    2583\n",
       "TX    2500\n",
       "NJ    1704\n",
       "IL    1389\n",
       "PA    1383\n",
       "VA    1290\n",
       "GA    1277\n",
       "MA    1213\n",
       "OH    1116\n",
       "MD     974\n",
       "AZ     767\n",
       "WA     741\n",
       "CO     701\n",
       "NC     701\n",
       "CT     662\n",
       "MI     650\n",
       "MO     619\n",
       "MN     565\n",
       "NV     445\n",
       "SC     429\n",
       "AL     405\n",
       "OR     404\n",
       "WI     402\n",
       "LA     394\n",
       "KY     296\n",
       "OK     274\n",
       "KS     236\n",
       "UT     234\n",
       "AR     220\n",
       "DC     207\n",
       "RI     186\n",
       "NM     166\n",
       "WV     158\n",
       "HI     155\n",
       "NH     151\n",
       "DE     108\n",
       "WY      76\n",
       "AK      73\n",
       "MT      71\n",
       "SD      57\n",
       "VT      49\n",
       "MS      18\n",
       "TN      16\n",
       "IN       9\n",
       "NE       5\n",
       "ID       5\n",
       "IA       5\n",
       "ME       3\n",
       "Name: addr_state, dtype: int64"
      ]
     },
     "execution_count": 374,
     "metadata": {},
     "output_type": "execute_result"
    }
   ],
   "source": [
    "df1['addr_state'].value_counts()"
   ]
  },
  {
   "cell_type": "code",
   "execution_count": 400,
   "id": "0b390b51",
   "metadata": {},
   "outputs": [
    {
     "data": {
      "text/plain": [
       "count    36045.000000\n",
       "mean     11091.127063\n",
       "std       7299.707314\n",
       "min        500.000000\n",
       "25%       5500.000000\n",
       "50%      10000.000000\n",
       "75%      15000.000000\n",
       "max      35000.000000\n",
       "Name: loan_amnt, dtype: float64"
      ]
     },
     "execution_count": 400,
     "metadata": {},
     "output_type": "execute_result"
    }
   ],
   "source": [
    "df1['loan_amnt'].describe()"
   ]
  },
  {
   "cell_type": "code",
   "execution_count": 513,
   "id": "b38070ce",
   "metadata": {},
   "outputs": [
    {
     "data": {
      "text/plain": [
       "(5000.0, 25000.0]     0.723429\n",
       "(1000.0, 5000.0]      0.232876\n",
       "(30000.0, 35000.0]    0.018338\n",
       "(25000.0, 30000.0]    0.018172\n",
       "(465.5, 1000.0]       0.007185\n",
       "Name: loan_amnt_bin, dtype: float64"
      ]
     },
     "execution_count": 513,
     "metadata": {},
     "output_type": "execute_result"
    }
   ],
   "source": [
    "df1['loan_amnt_bin'] = pd.cut(df1['loan_amnt'], bins=[465.5, 1000, 5000, 25000,30000, 35000])\n",
    "df1['loan_amnt_bin'].value_counts(1)"
   ]
  },
  {
   "cell_type": "code",
   "execution_count": 517,
   "id": "6be4ee74",
   "metadata": {},
   "outputs": [],
   "source": [
    "# sns.barplot(df1['loan_amnt_bin'].unique(), df1['loan_amnt_bin'].value_counts(1))"
   ]
  },
  {
   "cell_type": "code",
   "execution_count": 509,
   "id": "4c39fb8a",
   "metadata": {},
   "outputs": [
    {
     "data": {
      "text/plain": [
       "loan_amnt_bin       loan_status\n",
       "(465.5, 1000.0]     0              0.876448\n",
       "                    1              0.123552\n",
       "(1000.0, 5000.0]    0              0.866214\n",
       "                    1              0.133786\n",
       "(5000.0, 25000.0]   0              0.859258\n",
       "                    1              0.140742\n",
       "(25000.0, 30000.0]  0              0.795420\n",
       "                    1              0.204580\n",
       "(30000.0, 35000.0]  0              0.757943\n",
       "                    1              0.242057\n",
       "Name: loan_status, dtype: float64"
      ]
     },
     "execution_count": 509,
     "metadata": {},
     "output_type": "execute_result"
    }
   ],
   "source": [
    "#  Segment univariate\n",
    "df1.groupby(['loan_amnt_bin'])['loan_status'].value_counts(1)"
   ]
  },
  {
   "cell_type": "code",
   "execution_count": 479,
   "id": "be270bb3",
   "metadata": {},
   "outputs": [
    {
     "data": {
      "text/plain": [
       "(-0.001, 1.0]      852\n",
       "(1.0, 10.0]      10971\n",
       "(10.0, 20.0]     17402\n",
       "(20.0, 30.0]      6820\n",
       "Name: dti_bin, dtype: int64"
      ]
     },
     "execution_count": 479,
     "metadata": {},
     "output_type": "execute_result"
    }
   ],
   "source": [
    "df1['dti_bin'] = pd.cut(df1['dti'], bins=[0,1,10,20,30],include_lowest=True)\n",
    "df1['dti_bin'].value_counts().sort_index()"
   ]
  },
  {
   "cell_type": "code",
   "execution_count": 480,
   "id": "7ce934e7",
   "metadata": {},
   "outputs": [
    {
     "data": {
      "text/plain": [
       "[(-0.001, 1.0], (10.0, 20.0], (20.0, 30.0], (1.0, 10.0]]\n",
       "Categories (4, interval[float64]): [(-0.001, 1.0] < (1.0, 10.0] < (10.0, 20.0] < (20.0, 30.0]]"
      ]
     },
     "execution_count": 480,
     "metadata": {},
     "output_type": "execute_result"
    }
   ],
   "source": [
    "df1['dti_bin'].unique()"
   ]
  },
  {
   "cell_type": "code",
   "execution_count": 481,
   "id": "11321e1b",
   "metadata": {},
   "outputs": [],
   "source": [
    "# sns.barplot(d1.unique(), d1.value_counts().sort_index())\n"
   ]
  },
  {
   "cell_type": "code",
   "execution_count": 482,
   "id": "1ed025a6",
   "metadata": {},
   "outputs": [
    {
     "data": {
      "text/plain": [
       "dti_bin        loan_status\n",
       "(-0.001, 1.0]  0              0.883803\n",
       "               1              0.116197\n",
       "(1.0, 10.0]    0              0.878133\n",
       "               1              0.121867\n",
       "(10.0, 20.0]   0              0.851971\n",
       "               1              0.148029\n",
       "(20.0, 30.0]   0              0.837683\n",
       "               1              0.162317\n",
       "Name: loan_status, dtype: float64"
      ]
     },
     "execution_count": 482,
     "metadata": {},
     "output_type": "execute_result"
    }
   ],
   "source": [
    "#  Segment univariate\n",
    "df1.groupby(['dti_bin'])['loan_status'].value_counts(1)"
   ]
  },
  {
   "cell_type": "code",
   "execution_count": 377,
   "id": "98e239be",
   "metadata": {},
   "outputs": [
    {
     "data": {
      "text/plain": [
       "grade  sub_grade  loan_status\n",
       "A      A1         0               990\n",
       "                  1                23\n",
       "       A2         0              1314\n",
       "                  1                64\n",
       "       A3         0              1580\n",
       "                                 ... \n",
       "G      G3         1                18\n",
       "       G4         0                41\n",
       "                  1                12\n",
       "       G5         0                17\n",
       "                  1                 9\n",
       "Name: loan_status, Length: 70, dtype: int64"
      ]
     },
     "execution_count": 377,
     "metadata": {},
     "output_type": "execute_result"
    }
   ],
   "source": [
    "df1.groupby(['grade', 'sub_grade'])['loan_status'].value_counts()"
   ]
  },
  {
   "cell_type": "code",
   "execution_count": 10,
   "id": "1c1b0df4",
   "metadata": {},
   "outputs": [
    {
     "name": "stderr",
     "output_type": "stream",
     "text": [
      "C:\\Users\\harsh\\anaconda3\\lib\\site-packages\\seaborn\\_decorators.py:36: FutureWarning: Pass the following variable as a keyword arg: x. From version 0.12, the only valid positional argument will be `data`, and passing other arguments without an explicit keyword will result in an error or misinterpretation.\n",
      "  warnings.warn(\n"
     ]
    },
    {
     "data": {
      "text/plain": [
       "<AxesSubplot:xlabel='loan_amnt'>"
      ]
     },
     "execution_count": 10,
     "metadata": {},
     "output_type": "execute_result"
    },
    {
     "data": {
      "image/png": "[encoded data removed]",
      "text/plain": [
       "<Figure size 432x288 with 1 Axes>"
      ]
     },
     "metadata": {
      "needs_background": "light"
     },
     "output_type": "display_data"
    }
   ],
   "source": [
    "sns.boxplot(df['loan_amnt'])"
   ]
  },
  {
   "cell_type": "code",
   "execution_count": 11,
   "id": "721efa1e",
   "metadata": {},
   "outputs": [
    {
     "data": {
      "text/plain": [
       "count    39717.000000\n",
       "mean     11219.443815\n",
       "std       7456.670694\n",
       "min        500.000000\n",
       "25%       5500.000000\n",
       "50%      10000.000000\n",
       "75%      15000.000000\n",
       "max      35000.000000\n",
       "Name: loan_amnt, dtype: float64"
      ]
     },
     "execution_count": 11,
     "metadata": {},
     "output_type": "execute_result"
    }
   ],
   "source": []
  },
  {
   "cell_type": "code",
   "execution_count": 12,
   "id": "fa2ae84a",
   "metadata": {},
   "outputs": [],
   "source": []
  },
  {
   "cell_type": "code",
   "execution_count": 13,
   "id": "33193cab",
   "metadata": {},
   "outputs": [],
   "source": [
    "df['loan_amt_grp'] = df['loan_amt_grp'].astype(int)"
   ]
  },
  {
   "cell_type": "code",
   "execution_count": 14,
   "id": "2e866196",
   "metadata": {
    "scrolled": true
   },
   "outputs": [
    {
     "data": {
      "text/plain": [
       "loan_amt_grp  loan_status\n",
       "0             Fully Paid      6417\n",
       "              Charged Off     1027\n",
       "              Current           73\n",
       "1             Fully Paid     10454\n",
       "              Charged Off     1567\n",
       "              Current          157\n",
       "2             Fully Paid      7496\n",
       "              Charged Off     1158\n",
       "              Current          270\n",
       "3             Fully Paid      3866\n",
       "              Charged Off      785\n",
       "              Current          209\n",
       "4             Fully Paid      2530\n",
       "              Charged Off      515\n",
       "              Current          190\n",
       "5             Fully Paid      1364\n",
       "              Charged Off      326\n",
       "              Current          108\n",
       "6             Fully Paid       372\n",
       "              Charged Off       99\n",
       "              Current           55\n",
       "7             Fully Paid       451\n",
       "              Charged Off      150\n",
       "              Current           78\n",
       "Name: loan_status, dtype: int64"
      ]
     },
     "execution_count": 14,
     "metadata": {},
     "output_type": "execute_result"
    }
   ],
   "source": [
    "df.groupby('loan_amt_grp')['loan_status'].value_counts()"
   ]
  },
  {
   "cell_type": "code",
   "execution_count": 15,
   "id": "3074554a",
   "metadata": {},
   "outputs": [],
   "source": [
    "df = df[~df['emp_length'].isnull()]"
   ]
  },
  {
   "cell_type": "code",
   "execution_count": 16,
   "id": "41f54bad",
   "metadata": {},
   "outputs": [
    {
     "data": {
      "text/plain": [
       "(38642, 112)"
      ]
     },
     "execution_count": 16,
     "metadata": {},
     "output_type": "execute_result"
    }
   ],
   "source": [
    "df.shape"
   ]
  },
  {
   "cell_type": "code",
   "execution_count": 17,
   "id": "8a9dbaab",
   "metadata": {},
   "outputs": [],
   "source": [
    "# df['emp_length'].apply(lambda x: x.split(' ')[-2])"
   ]
  },
  {
   "cell_type": "code",
   "execution_count": 18,
   "id": "5313fa71",
   "metadata": {
    "scrolled": true
   },
   "outputs": [
    {
     "data": {
      "text/plain": [
       "emp_length  loan_status\n",
       "1 year      Fully Paid     2713\n",
       "            Charged Off     456\n",
       "            Current          71\n",
       "10+ years   Fully Paid     7157\n",
       "            Charged Off    1331\n",
       "            Current         391\n",
       "2 years     Fully Paid     3724\n",
       "            Charged Off     567\n",
       "            Current          97\n",
       "3 years     Fully Paid     3457\n",
       "            Charged Off     555\n",
       "            Current          83\n",
       "4 years     Fully Paid     2880\n",
       "            Charged Off     462\n",
       "            Current          94\n",
       "5 years     Fully Paid     2736\n",
       "            Charged Off     458\n",
       "            Current          88\n",
       "6 years     Fully Paid     1861\n",
       "            Charged Off     307\n",
       "            Current          61\n",
       "7 years     Fully Paid     1448\n",
       "            Charged Off     263\n",
       "            Current          62\n",
       "8 years     Fully Paid     1232\n",
       "            Charged Off     203\n",
       "            Current          44\n",
       "9 years     Fully Paid     1068\n",
       "            Charged Off     158\n",
       "            Current          32\n",
       "< 1 year    Fully Paid     3869\n",
       "            Charged Off     639\n",
       "            Current          75\n",
       "Name: loan_status, dtype: int64"
      ]
     },
     "execution_count": 18,
     "metadata": {},
     "output_type": "execute_result"
    }
   ],
   "source": [
    "df.groupby('emp_length')['loan_status'].value_counts()"
   ]
  },
  {
   "cell_type": "code",
   "execution_count": 19,
   "id": "5082ee57",
   "metadata": {
    "scrolled": false
   },
   "outputs": [
    {
     "data": {
      "text/plain": [
       "verification_status  loan_status\n",
       "Not Verified         Fully Paid     14229\n",
       "                     Charged Off     2049\n",
       "                     Current          220\n",
       "Source Verified      Fully Paid      8098\n",
       "                     Charged Off     1396\n",
       "                     Current          297\n",
       "Verified             Fully Paid      9818\n",
       "                     Charged Off     1954\n",
       "                     Current          581\n",
       "Name: loan_status, dtype: int64"
      ]
     },
     "execution_count": 19,
     "metadata": {},
     "output_type": "execute_result"
    }
   ],
   "source": [
    "df.groupby('verification_status')['loan_status'].value_counts()"
   ]
  },
  {
   "cell_type": "code",
   "execution_count": 20,
   "id": "6414cb6b",
   "metadata": {
    "scrolled": true
   },
   "outputs": [
    {
     "data": {
      "text/plain": [
       "home_ownership  loan_status\n",
       "MORTGAGE        Fully Paid     14350\n",
       "                Charged Off     2245\n",
       "                Current          617\n",
       "NONE            Fully Paid         3\n",
       "OTHER           Fully Paid        80\n",
       "                Charged Off       18\n",
       "OWN             Fully Paid      2370\n",
       "                Charged Off      400\n",
       "                Current           71\n",
       "RENT            Fully Paid     15342\n",
       "                Charged Off     2736\n",
       "                Current          410\n",
       "Name: loan_status, dtype: int64"
      ]
     },
     "execution_count": 20,
     "metadata": {},
     "output_type": "execute_result"
    }
   ],
   "source": [
    "df.groupby('home_ownership')['loan_status'].value_counts()\n",
    "# Around 14% people default their loan in each category "
   ]
  },
  {
   "cell_type": "code",
   "execution_count": 21,
   "id": "bd4ef355",
   "metadata": {},
   "outputs": [],
   "source": [
    "df['total_pymnt_grp'] = df['total_pymnt']/5000"
   ]
  },
  {
   "cell_type": "code",
   "execution_count": 22,
   "id": "8fb3e8a1",
   "metadata": {},
   "outputs": [],
   "source": [
    "df['total_pymnt_grp'] = df['total_pymnt_grp'].astype(int)"
   ]
  },
  {
   "cell_type": "code",
   "execution_count": 23,
   "id": "09f08194",
   "metadata": {
    "scrolled": true
   },
   "outputs": [
    {
     "data": {
      "text/plain": [
       "total_pymnt_grp  loan_status\n",
       "0                Fully Paid     5285\n",
       "                 Charged Off    2734\n",
       "                 Current          44\n",
       "1                Fully Paid     9648\n",
       "                 Charged Off    1454\n",
       "                 Current         120\n",
       "2                Fully Paid     7200\n",
       "                 Charged Off     627\n",
       "                 Current         141\n",
       "3                Fully Paid     4235\n",
       "                 Charged Off     297\n",
       "                 Current         226\n",
       "4                Fully Paid     2523\n",
       "                 Current         168\n",
       "                 Charged Off     145\n",
       "5                Fully Paid     1526\n",
       "                 Current         150\n",
       "                 Charged Off      79\n",
       "6                Fully Paid      852\n",
       "                 Current         108\n",
       "                 Charged Off      32\n",
       "7                Fully Paid      427\n",
       "                 Current          57\n",
       "                 Charged Off      17\n",
       "8                Fully Paid      250\n",
       "                 Current          39\n",
       "                 Charged Off      11\n",
       "9                Fully Paid      131\n",
       "                 Current          23\n",
       "                 Charged Off       2\n",
       "10               Fully Paid       58\n",
       "                 Current          22\n",
       "                 Charged Off       1\n",
       "11               Fully Paid       10\n",
       "Name: loan_status, dtype: int64"
      ]
     },
     "execution_count": 23,
     "metadata": {},
     "output_type": "execute_result"
    }
   ],
   "source": [
    "df.groupby('total_pymnt_grp')['loan_status'].value_counts()\n",
    "# 50% of people who pay less than 5000 tend to default the loan \n",
    "# Very Less People tend to default the loan who hv paid more than 25K  "
   ]
  },
  {
   "cell_type": "code",
   "execution_count": 24,
   "id": "a15cf364",
   "metadata": {
    "scrolled": true
   },
   "outputs": [],
   "source": [
    "# df['term'].apply(lambda x: x.split(\" \")[-2] )"
   ]
  },
  {
   "cell_type": "code",
   "execution_count": 25,
   "id": "bfc2efd9",
   "metadata": {},
   "outputs": [
    {
     "data": {
      "text/plain": [
       "term        loan_status\n",
       " 36 months  Fully Paid     25214\n",
       "            Charged Off     3073\n",
       " 60 months  Fully Paid      6931\n",
       "            Charged Off     2326\n",
       "            Current         1098\n",
       "Name: loan_status, dtype: int64"
      ]
     },
     "execution_count": 25,
     "metadata": {},
     "output_type": "execute_result"
    }
   ],
   "source": [
    "df.groupby('term')['loan_status'].value_counts()\n",
    "# More no of Defaulters in longer term loans"
   ]
  },
  {
   "cell_type": "code",
   "execution_count": 26,
   "id": "8bbf4036",
   "metadata": {},
   "outputs": [
    {
     "data": {
      "text/plain": [
       "count      38642\n",
       "unique       371\n",
       "top       10.99%\n",
       "freq         932\n",
       "Name: int_rate, dtype: object"
      ]
     },
     "execution_count": 26,
     "metadata": {},
     "output_type": "execute_result"
    }
   ],
   "source": [
    "df['int_rate'].describe()\n",
    "# 10.99% most common ROI"
   ]
  },
  {
   "cell_type": "code",
   "execution_count": 27,
   "id": "64faf6f5",
   "metadata": {},
   "outputs": [],
   "source": []
  },
  {
   "cell_type": "code",
   "execution_count": 28,
   "id": "caeba56f",
   "metadata": {},
   "outputs": [
    {
     "data": {
      "text/plain": [
       "0    10.65\n",
       "1    15.27\n",
       "2    15.96\n",
       "3    13.49\n",
       "4    12.69\n",
       "Name: int_rate, dtype: object"
      ]
     },
     "execution_count": 28,
     "metadata": {},
     "output_type": "execute_result"
    }
   ],
   "source": [
    "df['int_rate'].head()"
   ]
  },
  {
   "cell_type": "code",
   "execution_count": 29,
   "id": "09425ecc",
   "metadata": {},
   "outputs": [],
   "source": [
    "df['int_rate'] = df['int_rate'].astype(float)"
   ]
  },
  {
   "cell_type": "code",
   "execution_count": 30,
   "id": "b957dd77",
   "metadata": {},
   "outputs": [
    {
     "data": {
      "text/plain": [
       "count    38642.000000\n",
       "mean        12.052427\n",
       "std          3.716705\n",
       "min          5.420000\n",
       "25%          9.320000\n",
       "50%         11.860000\n",
       "75%         14.590000\n",
       "max         24.590000\n",
       "Name: int_rate, dtype: float64"
      ]
     },
     "execution_count": 30,
     "metadata": {},
     "output_type": "execute_result"
    }
   ],
   "source": [
    "df['int_rate'].describe()"
   ]
  },
  {
   "cell_type": "code",
   "execution_count": 62,
   "id": "dc4f742a",
   "metadata": {},
   "outputs": [
    {
     "name": "stderr",
     "output_type": "stream",
     "text": [
      "C:\\Users\\harsh\\anaconda3\\lib\\site-packages\\seaborn\\_decorators.py:36: FutureWarning: Pass the following variable as a keyword arg: x. From version 0.12, the only valid positional argument will be `data`, and passing other arguments without an explicit keyword will result in an error or misinterpretation.\n",
      "  warnings.warn(\n"
     ]
    },
    {
     "data": {
      "text/plain": [
       "<AxesSubplot:xlabel='int_rate'>"
      ]
     },
     "execution_count": 62,
     "metadata": {},
     "output_type": "execute_result"
    },
    {
     "data": {
      "image/png": "[encoded data removed]",
      "text/plain": [
       "<Figure size 432x288 with 1 Axes>"
      ]
     },
     "metadata": {
      "needs_background": "light"
     },
     "output_type": "display_data"
    }
   ],
   "source": [
    "sns.boxplot(df['int_rate'])"
   ]
  },
  {
   "cell_type": "code",
   "execution_count": 31,
   "id": "21ac605f",
   "metadata": {},
   "outputs": [],
   "source": [
    "df['int_rate_grp'] = df['int_rate']/1"
   ]
  },
  {
   "cell_type": "code",
   "execution_count": 32,
   "id": "aa71d53d",
   "metadata": {},
   "outputs": [],
   "source": [
    "df['int_rate_grp'] = df['int_rate_grp'].astype(int)"
   ]
  },
  {
   "cell_type": "code",
   "execution_count": 33,
   "id": "fcc2244e",
   "metadata": {
    "scrolled": true
   },
   "outputs": [
    {
     "data": {
      "text/plain": [
       "11    4378\n",
       "10    4230\n",
       "7     4074\n",
       "13    3950\n",
       "12    3388\n",
       "14    2685\n",
       "15    2513\n",
       "6     2368\n",
       "9     2209\n",
       "16    1986\n",
       "8     1765\n",
       "17    1386\n",
       "5     1243\n",
       "18     895\n",
       "19     712\n",
       "20     479\n",
       "21     198\n",
       "22     136\n",
       "23      42\n",
       "24       5\n",
       "Name: int_rate_grp, dtype: int64"
      ]
     },
     "execution_count": 33,
     "metadata": {},
     "output_type": "execute_result"
    }
   ],
   "source": [
    "df['int_rate_grp'].value_counts()\n"
   ]
  },
  {
   "cell_type": "code",
   "execution_count": 34,
   "id": "b0fa1e9f",
   "metadata": {
    "scrolled": true
   },
   "outputs": [
    {
     "data": {
      "text/plain": [
       "int_rate_grp  loan_status\n",
       "5             Fully Paid     1196\n",
       "              Charged Off      47\n",
       "6             Fully Paid     2258\n",
       "              Charged Off     108\n",
       "              Current           2\n",
       "7             Fully Paid     3828\n",
       "              Charged Off     235\n",
       "              Current          11\n",
       "8             Fully Paid     1592\n",
       "              Charged Off     149\n",
       "              Current          24\n",
       "9             Fully Paid     1982\n",
       "              Charged Off     196\n",
       "              Current          31\n",
       "10            Fully Paid     3681\n",
       "              Charged Off     459\n",
       "              Current          90\n",
       "11            Fully Paid     3655\n",
       "              Charged Off     595\n",
       "              Current         128\n",
       "12            Fully Paid     2776\n",
       "              Charged Off     500\n",
       "              Current         112\n",
       "13            Fully Paid     3243\n",
       "              Charged Off     615\n",
       "              Current          92\n",
       "14            Fully Paid     2139\n",
       "              Charged Off     460\n",
       "              Current          86\n",
       "15            Fully Paid     1943\n",
       "              Charged Off     497\n",
       "              Current          73\n",
       "16            Fully Paid     1439\n",
       "              Charged Off     465\n",
       "              Current          82\n",
       "17            Fully Paid      933\n",
       "              Charged Off     351\n",
       "              Current         102\n",
       "18            Fully Paid      598\n",
       "              Charged Off     224\n",
       "              Current          73\n",
       "19            Fully Paid      413\n",
       "              Charged Off     207\n",
       "              Current          92\n",
       "20            Fully Paid      281\n",
       "              Charged Off     145\n",
       "              Current          53\n",
       "21            Fully Paid      104\n",
       "              Charged Off      76\n",
       "              Current          18\n",
       "22            Fully Paid       59\n",
       "              Charged Off      55\n",
       "              Current          22\n",
       "23            Fully Paid       23\n",
       "              Charged Off      13\n",
       "              Current           6\n",
       "24            Charged Off       2\n",
       "              Fully Paid        2\n",
       "              Current           1\n",
       "Name: loan_status, dtype: int64"
      ]
     },
     "execution_count": 34,
     "metadata": {},
     "output_type": "execute_result"
    }
   ],
   "source": [
    "df.groupby('int_rate_grp')['loan_status'].value_counts()\n",
    "# Higher the interest rate, higher chances of default loan"
   ]
  },
  {
   "cell_type": "code",
   "execution_count": 35,
   "id": "9e5bcb90",
   "metadata": {},
   "outputs": [],
   "source": [
    "df['dti'] = df['dti']/3"
   ]
  },
  {
   "cell_type": "code",
   "execution_count": 36,
   "id": "6ab7e0a3",
   "metadata": {},
   "outputs": [
    {
     "data": {
      "text/plain": [
       "count    38642.000000\n",
       "mean         4.441703\n",
       "std          2.222301\n",
       "min          0.000000\n",
       "25%          2.733333\n",
       "50%          4.471667\n",
       "75%          6.196667\n",
       "max          9.996667\n",
       "Name: dti, dtype: float64"
      ]
     },
     "execution_count": 36,
     "metadata": {},
     "output_type": "execute_result"
    }
   ],
   "source": [
    "df['dti'].describe()"
   ]
  },
  {
   "cell_type": "code",
   "execution_count": 37,
   "id": "77b5547e",
   "metadata": {},
   "outputs": [],
   "source": [
    "df['dti_grp'] = df['dti'].astype(int)"
   ]
  },
  {
   "cell_type": "code",
   "execution_count": 38,
   "id": "e641e874",
   "metadata": {
    "scrolled": true
   },
   "outputs": [
    {
     "data": {
      "text/plain": [
       "dti_grp  loan_status\n",
       "0        Fully Paid     2334\n",
       "         Charged Off     332\n",
       "         Current          52\n",
       "1        Fully Paid     3090\n",
       "         Charged Off     408\n",
       "         Current          71\n",
       "2        Fully Paid     4034\n",
       "         Charged Off     591\n",
       "         Current         112\n",
       "3        Fully Paid     4631\n",
       "         Charged Off     708\n",
       "         Current         168\n",
       "4        Fully Paid     4916\n",
       "         Charged Off     867\n",
       "         Current         146\n",
       "5        Fully Paid     4511\n",
       "         Charged Off     802\n",
       "         Current         171\n",
       "6        Fully Paid     4009\n",
       "         Charged Off     793\n",
       "         Current         154\n",
       "7        Fully Paid     3226\n",
       "         Charged Off     649\n",
       "         Current         129\n",
       "8        Fully Paid     1128\n",
       "         Charged Off     210\n",
       "         Current          68\n",
       "9        Fully Paid      266\n",
       "         Charged Off      39\n",
       "         Current          27\n",
       "Name: loan_status, dtype: int64"
      ]
     },
     "execution_count": 38,
     "metadata": {},
     "output_type": "execute_result"
    }
   ],
   "source": [
    "df.groupby('dti_grp')['loan_status'].value_counts()\n",
    "# Borrowers having Low DTI tend to default less"
   ]
  },
  {
   "cell_type": "code",
   "execution_count": 39,
   "id": "fad760e6",
   "metadata": {},
   "outputs": [
    {
     "data": {
      "text/plain": [
       "debt_consolidation    18242\n",
       "credit_card            5000\n",
       "other                  3833\n",
       "home_improvement       2879\n",
       "major_purchase         2115\n",
       "small_business         1783\n",
       "car                    1497\n",
       "wedding                 934\n",
       "medical                 668\n",
       "moving                  559\n",
       "house                   368\n",
       "vacation                352\n",
       "educational             317\n",
       "renewable_energy         95\n",
       "Name: purpose, dtype: int64"
      ]
     },
     "execution_count": 39,
     "metadata": {},
     "output_type": "execute_result"
    }
   ],
   "source": [
    "df['purpose'].value_counts()"
   ]
  },
  {
   "cell_type": "code",
   "execution_count": 40,
   "id": "d7714ab0",
   "metadata": {
    "scrolled": true
   },
   "outputs": [
    {
     "data": {
      "text/plain": [
       "purpose             loan_status\n",
       "car                 Fully Paid      1293\n",
       "                    Charged Off      155\n",
       "                    Current           49\n",
       "credit_card         Fully Paid      4389\n",
       "                    Charged Off      510\n",
       "                    Current          101\n",
       "debt_consolidation  Fully Paid     14996\n",
       "                    Charged Off     2679\n",
       "                    Current          567\n",
       "educational         Fully Paid       265\n",
       "                    Charged Off       52\n",
       "home_improvement    Fully Paid      2455\n",
       "                    Charged Off      330\n",
       "                    Current           94\n",
       "house               Fully Paid       295\n",
       "                    Charged Off       59\n",
       "                    Current           14\n",
       "major_purchase      Fully Paid      1869\n",
       "                    Charged Off      211\n",
       "                    Current           35\n",
       "medical             Fully Paid       555\n",
       "                    Charged Off      101\n",
       "                    Current           12\n",
       "moving              Fully Paid       468\n",
       "                    Charged Off       84\n",
       "                    Current            7\n",
       "other               Fully Paid      3117\n",
       "                    Charged Off      596\n",
       "                    Current          120\n",
       "renewable_energy    Fully Paid        76\n",
       "                    Charged Off       18\n",
       "                    Current            1\n",
       "small_business      Fully Paid      1248\n",
       "                    Charged Off      462\n",
       "                    Current           73\n",
       "vacation            Fully Paid       298\n",
       "                    Charged Off       50\n",
       "                    Current            4\n",
       "wedding             Fully Paid       821\n",
       "                    Charged Off       92\n",
       "                    Current           21\n",
       "Name: loan_status, dtype: int64"
      ]
     },
     "execution_count": 40,
     "metadata": {},
     "output_type": "execute_result"
    }
   ],
   "source": [
    "df.groupby('purpose')['loan_status'].value_counts()"
   ]
  },
  {
   "cell_type": "code",
   "execution_count": 41,
   "id": "4002b8f6",
   "metadata": {},
   "outputs": [],
   "source": [
    "#  annual_inc"
   ]
  },
  {
   "cell_type": "code",
   "execution_count": 42,
   "id": "a337d432",
   "metadata": {},
   "outputs": [
    {
     "data": {
      "text/plain": [
       "count    3.864200e+04\n",
       "mean     6.960828e+04\n",
       "std      6.425320e+04\n",
       "min      4.000000e+03\n",
       "25%      4.140000e+04\n",
       "50%      6.000000e+04\n",
       "75%      8.319999e+04\n",
       "max      6.000000e+06\n",
       "Name: annual_inc, dtype: float64"
      ]
     },
     "execution_count": 42,
     "metadata": {},
     "output_type": "execute_result"
    }
   ],
   "source": [
    "df['annual_inc'].describe()"
   ]
  },
  {
   "cell_type": "code",
   "execution_count": 43,
   "id": "06c90f88",
   "metadata": {},
   "outputs": [
    {
     "name": "stderr",
     "output_type": "stream",
     "text": [
      "C:\\Users\\harsh\\anaconda3\\lib\\site-packages\\seaborn\\_decorators.py:36: FutureWarning: Pass the following variable as a keyword arg: x. From version 0.12, the only valid positional argument will be `data`, and passing other arguments without an explicit keyword will result in an error or misinterpretation.\n",
      "  warnings.warn(\n"
     ]
    },
    {
     "data": {
      "text/plain": [
       "<AxesSubplot:xlabel='annual_inc'>"
      ]
     },
     "execution_count": 43,
     "metadata": {},
     "output_type": "execute_result"
    },
    {
     "data": {
      "image/png": "[encoded data removed]",
      "text/plain": [
       "<Figure size 432x288 with 1 Axes>"
      ]
     },
     "metadata": {
      "needs_background": "light"
     },
     "output_type": "display_data"
    }
   ],
   "source": [
    "# checking Outliers\n",
    "sns.boxplot(df['annual_inc'] )"
   ]
  },
  {
   "cell_type": "code",
   "execution_count": 44,
   "id": "06a86481",
   "metadata": {},
   "outputs": [],
   "source": [
    "df= df[df['annual_inc']< 500000]"
   ]
  },
  {
   "cell_type": "code",
   "execution_count": 45,
   "id": "e1d62b65",
   "metadata": {},
   "outputs": [
    {
     "name": "stderr",
     "output_type": "stream",
     "text": [
      "C:\\Users\\harsh\\anaconda3\\lib\\site-packages\\seaborn\\_decorators.py:36: FutureWarning: Pass the following variable as a keyword arg: x. From version 0.12, the only valid positional argument will be `data`, and passing other arguments without an explicit keyword will result in an error or misinterpretation.\n",
      "  warnings.warn(\n"
     ]
    },
    {
     "data": {
      "text/plain": [
       "<AxesSubplot:xlabel='annual_inc'>"
      ]
     },
     "execution_count": 45,
     "metadata": {},
     "output_type": "execute_result"
    },
    {
     "data": {
      "image/png": "[encoded data removed]",
      "text/plain": [
       "<Figure size 432x288 with 1 Axes>"
      ]
     },
     "metadata": {
      "needs_background": "light"
     },
     "output_type": "display_data"
    }
   ],
   "source": [
    "sns.boxplot(df['annual_inc'] )"
   ]
  },
  {
   "cell_type": "code",
   "execution_count": 46,
   "id": "4b62b34c",
   "metadata": {},
   "outputs": [
    {
     "data": {
      "text/plain": [
       "count     38571.000000\n",
       "mean      68054.277311\n",
       "std       41274.239561\n",
       "min        4000.000000\n",
       "25%       41200.000000\n",
       "50%       60000.000000\n",
       "75%       83000.000000\n",
       "max      487000.000000\n",
       "Name: annual_inc, dtype: float64"
      ]
     },
     "execution_count": 46,
     "metadata": {},
     "output_type": "execute_result"
    }
   ],
   "source": [
    "df['annual_inc'].describe()"
   ]
  },
  {
   "cell_type": "code",
   "execution_count": 59,
   "id": "eba71206",
   "metadata": {},
   "outputs": [],
   "source": [
    "df['annual_inc_grp'] = df['annual_inc']/50000"
   ]
  },
  {
   "cell_type": "code",
   "execution_count": 60,
   "id": "481a318e",
   "metadata": {},
   "outputs": [],
   "source": [
    "df['annual_inc_grp'] = df['annual_inc_grp'].astype(int)"
   ]
  },
  {
   "cell_type": "code",
   "execution_count": 61,
   "id": "7533925d",
   "metadata": {
    "scrolled": true
   },
   "outputs": [
    {
     "data": {
      "text/plain": [
       "annual_inc_grp  loan_status\n",
       "0               Fully Paid     11389\n",
       "                Charged Off     2280\n",
       "                Current          301\n",
       "1               Fully Paid     15466\n",
       "                Charged Off     2481\n",
       "                Current          579\n",
       "2               Fully Paid      3784\n",
       "                Charged Off      452\n",
       "                Current          137\n",
       "3               Fully Paid       896\n",
       "                Charged Off      117\n",
       "                Current           62\n",
       "4               Fully Paid       312\n",
       "                Charged Off       35\n",
       "                Current            8\n",
       "5               Fully Paid       106\n",
       "                Charged Off       11\n",
       "                Current            6\n",
       "6               Fully Paid        80\n",
       "                Charged Off        6\n",
       "                Current            1\n",
       "7               Fully Paid        28\n",
       "                Charged Off        4\n",
       "                Current            2\n",
       "8               Fully Paid        17\n",
       "                Charged Off        1\n",
       "9               Fully Paid         8\n",
       "                Charged Off        1\n",
       "                Current            1\n",
       "Name: loan_status, dtype: int64"
      ]
     },
     "execution_count": 61,
     "metadata": {},
     "output_type": "execute_result"
    }
   ],
   "source": [
    "df.groupby('annual_inc_grp')['loan_status'].value_counts()\n",
    "# People having less income tend to default their loan more"
   ]
  },
  {
   "cell_type": "code",
   "execution_count": null,
   "id": "7414a9d4",
   "metadata": {},
   "outputs": [],
   "source": []
  }
 ],
 "metadata": {
  "kernelspec": {
   "display_name": "Python 3",
   "language": "python",
   "name": "python3"
  },
  "language_info": {
   "codemirror_mode": {
    "name": "ipython",
    "version": 3
   },
   "file_extension": ".py",
   "mimetype": "text/x-python",
   "name": "python",
   "nbconvert_exporter": "python",
   "pygments_lexer": "ipython3",
   "version": "3.8.8"
  }
 },
 "nbformat": 4,
 "nbformat_minor": 5
}
